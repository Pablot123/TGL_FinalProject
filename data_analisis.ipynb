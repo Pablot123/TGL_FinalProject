{
 "cells": [
  {
   "cell_type": "code",
   "execution_count": 13,
   "metadata": {},
   "outputs": [],
   "source": [
    "import os\n",
    "import pandas as pd\n",
    "from google.cloud import bigquery\n",
    "import matplotlib.pyplot as plt"
   ]
  },
  {
   "cell_type": "markdown",
   "metadata": {},
   "source": [
    "# Conexión con BigQuery"
   ]
  },
  {
   "cell_type": "code",
   "execution_count": 3,
   "metadata": {},
   "outputs": [],
   "source": [
    "os.environ[\"GOOGLE_APPLICATION_CREDENTIALS\"]=\"maximal-brace-365422-c5d5eb0f1996.json\"\n"
   ]
  },
  {
   "cell_type": "code",
   "execution_count": 5,
   "metadata": {},
   "outputs": [],
   "source": [
    "# Construct a BigQuery client object.\n",
    "client = bigquery.Client()\n",
    "\n",
    "query = \"\"\"\n",
    "    SELECT * \n",
    "    FROM `bigquery-public-data.imdb.reviews` as reviews\n",
    "    INNER JOIN `bigquery-public-data.imdb.title_basics` as titles\n",
    "    ON reviews.movie_id = titles.tconst\n",
    "\"\"\"\n",
    "df = client.query(query).to_dataframe()  # Make an API request.\n"
   ]
  },
  {
   "cell_type": "markdown",
   "metadata": {},
   "source": [
    "# Análisis de datos\n",
    "El dataset que se esocogio fue el de IMDB, del cual seleccionamos dos tablas: reviews y title_basics las cuales se relacionan por medio de la columna movie_id y tconst.\n",
    "Como resultado tenemos un dataset de 94674 filas y 16 columnas previo a su limpieza.\n",
    "Respecto a cada columna tenemos:\n",
    "1. Reviews: hace referencia a la review de cierta pelicula/Serie/show/etc realizada por un usuario\n",
    "2. split: etiquta la fila para pertenecer a un subconjuto de datos: train y test, para posteriormente ser entrenada en un modelo de machine learning\n",
    "3. label: Etiqueta que le asigna la polaridad de la review realizada(Positiva o negativa)\n",
    "4. movie_id: caracter alfanumerico que identifica el producto audiovisual\n",
    "5. reviewer_rating: El rating que le dio la persona que realizó la review \n",
    "6. movie_url: url para ver la información de la película en imdb \n",
    "7. title: titulo de la pelicula \n",
    "8. tconst: caracter alfanumerico que identifica el producto audiovisual\n",
    "9. title_type: tipo de producto audiovisual: serie, pelicula, short, tvshow, etc\n",
    "10. primary_title: El titulo mas popular.\n",
    "11. original_title: El titulo original en el idioma original\n",
    "12. is_adult: Si la pellicula es para adultos o no\n",
    "13. start_year: Año de lanzamiento\n",
    "14. end_year: año en que termino en caso de ser una serie o show\n",
    "15. runtime_minutes: tiempo de duración\n",
    "16. genres: Generos a losque pertenece la pelicula \n",
    " "
   ]
  },
  {
   "cell_type": "code",
   "execution_count": 4,
   "metadata": {},
   "outputs": [
    {
     "name": "stdout",
     "output_type": "stream",
     "text": [
      "<class 'pandas.core.frame.DataFrame'>\n",
      "RangeIndex: 94674 entries, 0 to 94673\n",
      "Data columns (total 16 columns):\n",
      " #   Column           Non-Null Count  Dtype \n",
      "---  ------           --------------  ----- \n",
      " 0   review           94674 non-null  object\n",
      " 1   split            94674 non-null  object\n",
      " 2   label            94674 non-null  object\n",
      " 3   movie_id         94674 non-null  object\n",
      " 4   reviewer_rating  47285 non-null  Int64 \n",
      " 5   movie_url        94674 non-null  object\n",
      " 6   title            94673 non-null  object\n",
      " 7   tconst           94674 non-null  object\n",
      " 8   title_type       94674 non-null  object\n",
      " 9   primary_title    94674 non-null  object\n",
      " 10  original_title   94674 non-null  object\n",
      " 11  is_adult         94674 non-null  Int64 \n",
      " 12  start_year       94669 non-null  Int64 \n",
      " 13  end_year         4834 non-null   Int64 \n",
      " 14  runtime_minutes  93779 non-null  Int64 \n",
      " 15  genres           94628 non-null  object\n",
      "dtypes: Int64(5), object(11)\n",
      "memory usage: 12.0+ MB\n"
     ]
    }
   ],
   "source": [
    "#Los tipos de datos se encuentran a continuacion donde object hace referencia a string, int a entero\n",
    "df.info()"
   ]
  },
  {
   "cell_type": "code",
   "execution_count": 5,
   "metadata": {},
   "outputs": [
    {
     "data": {
      "text/plain": [
       "movie           74754\n",
       "tvMovie          5788\n",
       "video            4835\n",
       "tvSeries         4104\n",
       "short            1675\n",
       "tvMiniSeries     1502\n",
       "tvEpisode        1241\n",
       "videoGame         385\n",
       "tvSpecial         334\n",
       "tvShort            56\n",
       "Name: title_type, dtype: int64"
      ]
     },
     "execution_count": 5,
     "metadata": {},
     "output_type": "execute_result"
    }
   ],
   "source": [
    "#diferentes tipos de formatos audiovisuales, solo nos interesan las peliculas\n",
    "df['title_type'].value_counts()"
   ]
  },
  {
   "cell_type": "code",
   "execution_count": 6,
   "metadata": {},
   "outputs": [
    {
     "name": "stdout",
     "output_type": "stream",
     "text": [
      "Dimensión del dataset: (74754, 16)\n",
      "            Numero de columnas: 16\n",
      "            Numero de filas: 74754\n"
     ]
    }
   ],
   "source": [
    "#Dimensión del dataset luego de solo elegir las peliculas\n",
    "df_movies = df.loc[df['title_type'] == 'movie'].reset_index(drop=True)\n",
    "\n",
    "print(f'''Dimensión del dataset: {df_movies.shape}\n",
    "            Numero de columnas: {df_movies.shape[1]}\n",
    "            Numero de filas: {df_movies.shape[0]}''')"
   ]
  },
  {
   "cell_type": "code",
   "execution_count": 7,
   "metadata": {},
   "outputs": [
    {
     "data": {
      "text/html": [
       "<div>\n",
       "<style scoped>\n",
       "    .dataframe tbody tr th:only-of-type {\n",
       "        vertical-align: middle;\n",
       "    }\n",
       "\n",
       "    .dataframe tbody tr th {\n",
       "        vertical-align: top;\n",
       "    }\n",
       "\n",
       "    .dataframe thead th {\n",
       "        text-align: right;\n",
       "    }\n",
       "</style>\n",
       "<table border=\"1\" class=\"dataframe\">\n",
       "  <thead>\n",
       "    <tr style=\"text-align: right;\">\n",
       "      <th></th>\n",
       "      <th>review</th>\n",
       "      <th>split</th>\n",
       "      <th>label</th>\n",
       "      <th>movie_id</th>\n",
       "      <th>reviewer_rating</th>\n",
       "      <th>movie_url</th>\n",
       "      <th>title</th>\n",
       "      <th>tconst</th>\n",
       "      <th>title_type</th>\n",
       "      <th>primary_title</th>\n",
       "      <th>original_title</th>\n",
       "      <th>is_adult</th>\n",
       "      <th>start_year</th>\n",
       "      <th>end_year</th>\n",
       "      <th>runtime_minutes</th>\n",
       "      <th>genres</th>\n",
       "    </tr>\n",
       "  </thead>\n",
       "  <tbody>\n",
       "    <tr>\n",
       "      <th>0</th>\n",
       "      <td>hair, the movie based on the broadway hit,fail...</td>\n",
       "      <td>test</td>\n",
       "      <td>Negative</td>\n",
       "      <td>tt0079261</td>\n",
       "      <td>4</td>\n",
       "      <td>http://www.imdb.com/title/tt0079261/</td>\n",
       "      <td>Hair</td>\n",
       "      <td>tt0079261</td>\n",
       "      <td>movie</td>\n",
       "      <td>Hair</td>\n",
       "      <td>Hair</td>\n",
       "      <td>0</td>\n",
       "      <td>1979</td>\n",
       "      <td>&lt;NA&gt;</td>\n",
       "      <td>121</td>\n",
       "      <td>Comedy,Drama,Musical</td>\n",
       "    </tr>\n",
       "    <tr>\n",
       "      <th>1</th>\n",
       "      <td>This film is an insult to the play upon which ...</td>\n",
       "      <td>test</td>\n",
       "      <td>Negative</td>\n",
       "      <td>tt0079261</td>\n",
       "      <td>1</td>\n",
       "      <td>http://www.imdb.com/title/tt0079261/</td>\n",
       "      <td>Hair</td>\n",
       "      <td>tt0079261</td>\n",
       "      <td>movie</td>\n",
       "      <td>Hair</td>\n",
       "      <td>Hair</td>\n",
       "      <td>0</td>\n",
       "      <td>1979</td>\n",
       "      <td>&lt;NA&gt;</td>\n",
       "      <td>121</td>\n",
       "      <td>Comedy,Drama,Musical</td>\n",
       "    </tr>\n",
       "    <tr>\n",
       "      <th>2</th>\n",
       "      <td>I should start off by saying I have something ...</td>\n",
       "      <td>test</td>\n",
       "      <td>Negative</td>\n",
       "      <td>tt0079261</td>\n",
       "      <td>4</td>\n",
       "      <td>http://www.imdb.com/title/tt0079261/</td>\n",
       "      <td>Hair</td>\n",
       "      <td>tt0079261</td>\n",
       "      <td>movie</td>\n",
       "      <td>Hair</td>\n",
       "      <td>Hair</td>\n",
       "      <td>0</td>\n",
       "      <td>1979</td>\n",
       "      <td>&lt;NA&gt;</td>\n",
       "      <td>121</td>\n",
       "      <td>Comedy,Drama,Musical</td>\n",
       "    </tr>\n",
       "    <tr>\n",
       "      <th>3</th>\n",
       "      <td>I've liked Milos Forman's movies since I saw \"...</td>\n",
       "      <td>test</td>\n",
       "      <td>Negative</td>\n",
       "      <td>tt0079261</td>\n",
       "      <td>4</td>\n",
       "      <td>http://www.imdb.com/title/tt0079261/</td>\n",
       "      <td>Hair</td>\n",
       "      <td>tt0079261</td>\n",
       "      <td>movie</td>\n",
       "      <td>Hair</td>\n",
       "      <td>Hair</td>\n",
       "      <td>0</td>\n",
       "      <td>1979</td>\n",
       "      <td>&lt;NA&gt;</td>\n",
       "      <td>121</td>\n",
       "      <td>Comedy,Drama,Musical</td>\n",
       "    </tr>\n",
       "    <tr>\n",
       "      <th>4</th>\n",
       "      <td>I was a hippie age 22 in 1965, have seen the p...</td>\n",
       "      <td>test</td>\n",
       "      <td>Negative</td>\n",
       "      <td>tt0079261</td>\n",
       "      <td>1</td>\n",
       "      <td>http://www.imdb.com/title/tt0079261/</td>\n",
       "      <td>Hair</td>\n",
       "      <td>tt0079261</td>\n",
       "      <td>movie</td>\n",
       "      <td>Hair</td>\n",
       "      <td>Hair</td>\n",
       "      <td>0</td>\n",
       "      <td>1979</td>\n",
       "      <td>&lt;NA&gt;</td>\n",
       "      <td>121</td>\n",
       "      <td>Comedy,Drama,Musical</td>\n",
       "    </tr>\n",
       "  </tbody>\n",
       "</table>\n",
       "</div>"
      ],
      "text/plain": [
       "                                              review split     label  \\\n",
       "0  hair, the movie based on the broadway hit,fail...  test  Negative   \n",
       "1  This film is an insult to the play upon which ...  test  Negative   \n",
       "2  I should start off by saying I have something ...  test  Negative   \n",
       "3  I've liked Milos Forman's movies since I saw \"...  test  Negative   \n",
       "4  I was a hippie age 22 in 1965, have seen the p...  test  Negative   \n",
       "\n",
       "    movie_id  reviewer_rating                             movie_url title  \\\n",
       "0  tt0079261                4  http://www.imdb.com/title/tt0079261/  Hair   \n",
       "1  tt0079261                1  http://www.imdb.com/title/tt0079261/  Hair   \n",
       "2  tt0079261                4  http://www.imdb.com/title/tt0079261/  Hair   \n",
       "3  tt0079261                4  http://www.imdb.com/title/tt0079261/  Hair   \n",
       "4  tt0079261                1  http://www.imdb.com/title/tt0079261/  Hair   \n",
       "\n",
       "      tconst title_type primary_title original_title  is_adult  start_year  \\\n",
       "0  tt0079261      movie          Hair           Hair         0        1979   \n",
       "1  tt0079261      movie          Hair           Hair         0        1979   \n",
       "2  tt0079261      movie          Hair           Hair         0        1979   \n",
       "3  tt0079261      movie          Hair           Hair         0        1979   \n",
       "4  tt0079261      movie          Hair           Hair         0        1979   \n",
       "\n",
       "   end_year  runtime_minutes                genres  \n",
       "0      <NA>              121  Comedy,Drama,Musical  \n",
       "1      <NA>              121  Comedy,Drama,Musical  \n",
       "2      <NA>              121  Comedy,Drama,Musical  \n",
       "3      <NA>              121  Comedy,Drama,Musical  \n",
       "4      <NA>              121  Comedy,Drama,Musical  "
      ]
     },
     "execution_count": 7,
     "metadata": {},
     "output_type": "execute_result"
    }
   ],
   "source": [
    "#Columnas a eliminar: tconst, movie_url, title_type, end_year, 'original_title, title ya que no nos aportan informacion\n",
    "df_movies.head()"
   ]
  },
  {
   "cell_type": "code",
   "execution_count": 7,
   "metadata": {},
   "outputs": [
    {
     "data": {
      "text/html": [
       "<div>\n",
       "<style scoped>\n",
       "    .dataframe tbody tr th:only-of-type {\n",
       "        vertical-align: middle;\n",
       "    }\n",
       "\n",
       "    .dataframe tbody tr th {\n",
       "        vertical-align: top;\n",
       "    }\n",
       "\n",
       "    .dataframe thead th {\n",
       "        text-align: right;\n",
       "    }\n",
       "</style>\n",
       "<table border=\"1\" class=\"dataframe\">\n",
       "  <thead>\n",
       "    <tr style=\"text-align: right;\">\n",
       "      <th></th>\n",
       "      <th>review</th>\n",
       "      <th>split</th>\n",
       "      <th>label</th>\n",
       "      <th>movie_id</th>\n",
       "      <th>reviewer_rating</th>\n",
       "      <th>primary_title</th>\n",
       "      <th>is_adult</th>\n",
       "      <th>start_year</th>\n",
       "      <th>runtime_minutes</th>\n",
       "      <th>genres</th>\n",
       "    </tr>\n",
       "  </thead>\n",
       "  <tbody>\n",
       "    <tr>\n",
       "      <th>0</th>\n",
       "      <td>This movie was exactly what I expected, not gr...</td>\n",
       "      <td>train</td>\n",
       "      <td>Negative</td>\n",
       "      <td>tt0450385</td>\n",
       "      <td>3</td>\n",
       "      <td>1408</td>\n",
       "      <td>0</td>\n",
       "      <td>2007</td>\n",
       "      <td>104</td>\n",
       "      <td>Fantasy,Horror,Mystery</td>\n",
       "    </tr>\n",
       "    <tr>\n",
       "      <th>1</th>\n",
       "      <td>I am a huge, huge fan of John Cusack, Samuel L...</td>\n",
       "      <td>train</td>\n",
       "      <td>Negative</td>\n",
       "      <td>tt0450385</td>\n",
       "      <td>4</td>\n",
       "      <td>1408</td>\n",
       "      <td>0</td>\n",
       "      <td>2007</td>\n",
       "      <td>104</td>\n",
       "      <td>Fantasy,Horror,Mystery</td>\n",
       "    </tr>\n",
       "    <tr>\n",
       "      <th>2</th>\n",
       "      <td>'1408' is the latest hodge podge of cheap scar...</td>\n",
       "      <td>train</td>\n",
       "      <td>Negative</td>\n",
       "      <td>tt0450385</td>\n",
       "      <td>1</td>\n",
       "      <td>1408</td>\n",
       "      <td>0</td>\n",
       "      <td>2007</td>\n",
       "      <td>104</td>\n",
       "      <td>Fantasy,Horror,Mystery</td>\n",
       "    </tr>\n",
       "    <tr>\n",
       "      <th>3</th>\n",
       "      <td>I don't see what everyone liked about this mov...</td>\n",
       "      <td>train</td>\n",
       "      <td>Negative</td>\n",
       "      <td>tt0450385</td>\n",
       "      <td>1</td>\n",
       "      <td>1408</td>\n",
       "      <td>0</td>\n",
       "      <td>2007</td>\n",
       "      <td>104</td>\n",
       "      <td>Fantasy,Horror,Mystery</td>\n",
       "    </tr>\n",
       "    <tr>\n",
       "      <th>4</th>\n",
       "      <td>After spotting the high rating on IMDb, I deci...</td>\n",
       "      <td>train</td>\n",
       "      <td>Negative</td>\n",
       "      <td>tt0450385</td>\n",
       "      <td>2</td>\n",
       "      <td>1408</td>\n",
       "      <td>0</td>\n",
       "      <td>2007</td>\n",
       "      <td>104</td>\n",
       "      <td>Fantasy,Horror,Mystery</td>\n",
       "    </tr>\n",
       "  </tbody>\n",
       "</table>\n",
       "</div>"
      ],
      "text/plain": [
       "                                              review  split     label  \\\n",
       "0  This movie was exactly what I expected, not gr...  train  Negative   \n",
       "1  I am a huge, huge fan of John Cusack, Samuel L...  train  Negative   \n",
       "2  '1408' is the latest hodge podge of cheap scar...  train  Negative   \n",
       "3  I don't see what everyone liked about this mov...  train  Negative   \n",
       "4  After spotting the high rating on IMDb, I deci...  train  Negative   \n",
       "\n",
       "    movie_id  reviewer_rating primary_title  is_adult  start_year  \\\n",
       "0  tt0450385                3          1408         0        2007   \n",
       "1  tt0450385                4          1408         0        2007   \n",
       "2  tt0450385                1          1408         0        2007   \n",
       "3  tt0450385                1          1408         0        2007   \n",
       "4  tt0450385                2          1408         0        2007   \n",
       "\n",
       "   runtime_minutes                  genres  \n",
       "0              104  Fantasy,Horror,Mystery  \n",
       "1              104  Fantasy,Horror,Mystery  \n",
       "2              104  Fantasy,Horror,Mystery  \n",
       "3              104  Fantasy,Horror,Mystery  \n",
       "4              104  Fantasy,Horror,Mystery  "
      ]
     },
     "execution_count": 7,
     "metadata": {},
     "output_type": "execute_result"
    }
   ],
   "source": [
    "df_movies.drop(['tconst', 'movie_url', 'title_type', 'end_year', 'title', 'original_title'], axis=1, inplace=True)\n",
    "df_movies.head()\n",
    "\n"
   ]
  },
  {
   "cell_type": "markdown",
   "metadata": {},
   "source": [
    "# Visualizations"
   ]
  },
  {
   "cell_type": "markdown",
   "metadata": {},
   "source": [
    "### ¿Influye la duración de las películas en la opinión que tienen las personas?"
   ]
  },
  {
   "cell_type": "code",
   "execution_count": 9,
   "metadata": {},
   "outputs": [
    {
     "name": "stderr",
     "output_type": "stream",
     "text": [
      "C:\\Users\\Pablo Tamayo\\AppData\\Local\\Temp\\ipykernel_14540\\3551438408.py:4: FutureWarning: The default value of numeric_only in DataFrameGroupBy.mean is deprecated. In a future version, numeric_only will default to False. Either specify numeric_only or select only columns which should be valid for the function.\n",
      "  df_unique_duration = df_not_null_rating.groupby(['runtime_minutes']).mean().round()\n"
     ]
    },
    {
     "data": {
      "text/html": [
       "<div>\n",
       "<style scoped>\n",
       "    .dataframe tbody tr th:only-of-type {\n",
       "        vertical-align: middle;\n",
       "    }\n",
       "\n",
       "    .dataframe tbody tr th {\n",
       "        vertical-align: top;\n",
       "    }\n",
       "\n",
       "    .dataframe thead th {\n",
       "        text-align: right;\n",
       "    }\n",
       "</style>\n",
       "<table border=\"1\" class=\"dataframe\">\n",
       "  <thead>\n",
       "    <tr style=\"text-align: right;\">\n",
       "      <th></th>\n",
       "      <th>runtime_minutes</th>\n",
       "      <th>reviewer_rating</th>\n",
       "      <th>is_adult</th>\n",
       "      <th>start_year</th>\n",
       "    </tr>\n",
       "  </thead>\n",
       "  <tbody>\n",
       "    <tr>\n",
       "      <th>0</th>\n",
       "      <td>41</td>\n",
       "      <td>8.0</td>\n",
       "      <td>0.0</td>\n",
       "      <td>1943.0</td>\n",
       "    </tr>\n",
       "    <tr>\n",
       "      <th>1</th>\n",
       "      <td>45</td>\n",
       "      <td>6.0</td>\n",
       "      <td>0.0</td>\n",
       "      <td>1924.0</td>\n",
       "    </tr>\n",
       "    <tr>\n",
       "      <th>2</th>\n",
       "      <td>47</td>\n",
       "      <td>9.0</td>\n",
       "      <td>0.0</td>\n",
       "      <td>1983.0</td>\n",
       "    </tr>\n",
       "    <tr>\n",
       "      <th>3</th>\n",
       "      <td>48</td>\n",
       "      <td>10.0</td>\n",
       "      <td>0.0</td>\n",
       "      <td>1967.0</td>\n",
       "    </tr>\n",
       "    <tr>\n",
       "      <th>4</th>\n",
       "      <td>50</td>\n",
       "      <td>7.0</td>\n",
       "      <td>0.0</td>\n",
       "      <td>1998.0</td>\n",
       "    </tr>\n",
       "    <tr>\n",
       "      <th>...</th>\n",
       "      <td>...</td>\n",
       "      <td>...</td>\n",
       "      <td>...</td>\n",
       "      <td>...</td>\n",
       "    </tr>\n",
       "    <tr>\n",
       "      <th>152</th>\n",
       "      <td>263</td>\n",
       "      <td>1.0</td>\n",
       "      <td>0.0</td>\n",
       "      <td>1949.0</td>\n",
       "    </tr>\n",
       "    <tr>\n",
       "      <th>153</th>\n",
       "      <td>275</td>\n",
       "      <td>9.0</td>\n",
       "      <td>0.0</td>\n",
       "      <td>1979.0</td>\n",
       "    </tr>\n",
       "    <tr>\n",
       "      <th>154</th>\n",
       "      <td>278</td>\n",
       "      <td>3.0</td>\n",
       "      <td>0.0</td>\n",
       "      <td>2004.0</td>\n",
       "    </tr>\n",
       "    <tr>\n",
       "      <th>155</th>\n",
       "      <td>345</td>\n",
       "      <td>3.0</td>\n",
       "      <td>0.0</td>\n",
       "      <td>2000.0</td>\n",
       "    </tr>\n",
       "    <tr>\n",
       "      <th>156</th>\n",
       "      <td>453</td>\n",
       "      <td>2.0</td>\n",
       "      <td>0.0</td>\n",
       "      <td>1965.0</td>\n",
       "    </tr>\n",
       "  </tbody>\n",
       "</table>\n",
       "<p>157 rows × 4 columns</p>\n",
       "</div>"
      ],
      "text/plain": [
       "     runtime_minutes  reviewer_rating  is_adult  start_year\n",
       "0                 41              8.0       0.0      1943.0\n",
       "1                 45              6.0       0.0      1924.0\n",
       "2                 47              9.0       0.0      1983.0\n",
       "3                 48             10.0       0.0      1967.0\n",
       "4                 50              7.0       0.0      1998.0\n",
       "..               ...              ...       ...         ...\n",
       "152              263              1.0       0.0      1949.0\n",
       "153              275              9.0       0.0      1979.0\n",
       "154              278              3.0       0.0      2004.0\n",
       "155              345              3.0       0.0      2000.0\n",
       "156              453              2.0       0.0      1965.0\n",
       "\n",
       "[157 rows x 4 columns]"
      ]
     },
     "execution_count": 9,
     "metadata": {},
     "output_type": "execute_result"
    }
   ],
   "source": [
    "# Eliminar filas en las que la columna 'review_rating es nula'\n",
    "df_not_null_rating = df_movies.dropna(axis=0, subset=['reviewer_rating'])\n",
    "# Agrupar por duración y promediar la calificación\n",
    "df_unique_duration = df_not_null_rating.groupby(['runtime_minutes']).mean().round()\n",
    "df_unique_duration.reset_index(inplace=True)\n",
    "df_unique_duration"
   ]
  },
  {
   "cell_type": "code",
   "execution_count": 10,
   "metadata": {},
   "outputs": [
    {
     "data": {
      "text/plain": [
       "<AxesSubplot: title={'center': 'runtime_minutes'}, xlabel='reviewer_rating'>"
      ]
     },
     "execution_count": 10,
     "metadata": {},
     "output_type": "execute_result"
    },
    {
     "data": {
      "image/png": "[encoded data removed]",
      "text/plain": [
       "<Figure size 1200x800 with 1 Axes>"
      ]
     },
     "metadata": {},
     "output_type": "display_data"
    }
   ],
   "source": [
    "# Visualizar la relación entre el rating y el tiempo de duración\n",
    "df_unique_duration.boxplot(column='runtime_minutes', by='reviewer_rating',figsize=(12,8))"
   ]
  },
  {
   "cell_type": "markdown",
   "metadata": {},
   "source": [
    "### ¿Qué géneros tienen mejores ratings?"
   ]
  },
  {
   "cell_type": "code",
   "execution_count": 11,
   "metadata": {},
   "outputs": [
    {
     "name": "stderr",
     "output_type": "stream",
     "text": [
      "C:\\Users\\Pablo Tamayo\\AppData\\Local\\Temp\\ipykernel_14540\\2561718631.py:2: FutureWarning: The default value of numeric_only in DataFrameGroupBy.mean is deprecated. In a future version, numeric_only will default to False. Either specify numeric_only or select only columns which should be valid for the function.\n",
      "  df_unique_genre = df_not_null_rating.groupby(['genres']).mean().round()\n"
     ]
    },
    {
     "data": {
      "text/html": [
       "<div>\n",
       "<style scoped>\n",
       "    .dataframe tbody tr th:only-of-type {\n",
       "        vertical-align: middle;\n",
       "    }\n",
       "\n",
       "    .dataframe tbody tr th {\n",
       "        vertical-align: top;\n",
       "    }\n",
       "\n",
       "    .dataframe thead th {\n",
       "        text-align: right;\n",
       "    }\n",
       "</style>\n",
       "<table border=\"1\" class=\"dataframe\">\n",
       "  <thead>\n",
       "    <tr style=\"text-align: right;\">\n",
       "      <th></th>\n",
       "      <th>genres</th>\n",
       "      <th>reviewer_rating</th>\n",
       "      <th>is_adult</th>\n",
       "      <th>start_year</th>\n",
       "      <th>runtime_minutes</th>\n",
       "    </tr>\n",
       "  </thead>\n",
       "  <tbody>\n",
       "    <tr>\n",
       "      <th>0</th>\n",
       "      <td>Action</td>\n",
       "      <td>4.0</td>\n",
       "      <td>0.0</td>\n",
       "      <td>1995.0</td>\n",
       "      <td>92.0</td>\n",
       "    </tr>\n",
       "    <tr>\n",
       "      <th>1</th>\n",
       "      <td>Action,Adventure</td>\n",
       "      <td>4.0</td>\n",
       "      <td>0.0</td>\n",
       "      <td>1979.0</td>\n",
       "      <td>96.0</td>\n",
       "    </tr>\n",
       "    <tr>\n",
       "      <th>2</th>\n",
       "      <td>Action,Adventure,Animation</td>\n",
       "      <td>6.0</td>\n",
       "      <td>0.0</td>\n",
       "      <td>1999.0</td>\n",
       "      <td>97.0</td>\n",
       "    </tr>\n",
       "    <tr>\n",
       "      <th>3</th>\n",
       "      <td>Action,Adventure,Biography</td>\n",
       "      <td>6.0</td>\n",
       "      <td>0.0</td>\n",
       "      <td>2003.0</td>\n",
       "      <td>110.0</td>\n",
       "    </tr>\n",
       "    <tr>\n",
       "      <th>4</th>\n",
       "      <td>Action,Adventure,Comedy</td>\n",
       "      <td>4.0</td>\n",
       "      <td>0.0</td>\n",
       "      <td>1997.0</td>\n",
       "      <td>102.0</td>\n",
       "    </tr>\n",
       "    <tr>\n",
       "      <th>...</th>\n",
       "      <td>...</td>\n",
       "      <td>...</td>\n",
       "      <td>...</td>\n",
       "      <td>...</td>\n",
       "      <td>...</td>\n",
       "    </tr>\n",
       "    <tr>\n",
       "      <th>450</th>\n",
       "      <td>Thriller,War</td>\n",
       "      <td>6.0</td>\n",
       "      <td>0.0</td>\n",
       "      <td>1942.0</td>\n",
       "      <td>99.0</td>\n",
       "    </tr>\n",
       "    <tr>\n",
       "      <th>451</th>\n",
       "      <td>Thriller,Western</td>\n",
       "      <td>1.0</td>\n",
       "      <td>0.0</td>\n",
       "      <td>2007.0</td>\n",
       "      <td>90.0</td>\n",
       "    </tr>\n",
       "    <tr>\n",
       "      <th>452</th>\n",
       "      <td>War</td>\n",
       "      <td>5.0</td>\n",
       "      <td>0.0</td>\n",
       "      <td>1985.0</td>\n",
       "      <td>112.0</td>\n",
       "    </tr>\n",
       "    <tr>\n",
       "      <th>453</th>\n",
       "      <td>War,Western</td>\n",
       "      <td>3.0</td>\n",
       "      <td>0.0</td>\n",
       "      <td>1968.0</td>\n",
       "      <td>125.0</td>\n",
       "    </tr>\n",
       "    <tr>\n",
       "      <th>454</th>\n",
       "      <td>Western</td>\n",
       "      <td>5.0</td>\n",
       "      <td>0.0</td>\n",
       "      <td>1966.0</td>\n",
       "      <td>92.0</td>\n",
       "    </tr>\n",
       "  </tbody>\n",
       "</table>\n",
       "<p>455 rows × 5 columns</p>\n",
       "</div>"
      ],
      "text/plain": [
       "                         genres  reviewer_rating  is_adult  start_year  \\\n",
       "0                        Action              4.0       0.0      1995.0   \n",
       "1              Action,Adventure              4.0       0.0      1979.0   \n",
       "2    Action,Adventure,Animation              6.0       0.0      1999.0   \n",
       "3    Action,Adventure,Biography              6.0       0.0      2003.0   \n",
       "4       Action,Adventure,Comedy              4.0       0.0      1997.0   \n",
       "..                          ...              ...       ...         ...   \n",
       "450                Thriller,War              6.0       0.0      1942.0   \n",
       "451            Thriller,Western              1.0       0.0      2007.0   \n",
       "452                         War              5.0       0.0      1985.0   \n",
       "453                 War,Western              3.0       0.0      1968.0   \n",
       "454                     Western              5.0       0.0      1966.0   \n",
       "\n",
       "     runtime_minutes  \n",
       "0               92.0  \n",
       "1               96.0  \n",
       "2               97.0  \n",
       "3              110.0  \n",
       "4              102.0  \n",
       "..               ...  \n",
       "450             99.0  \n",
       "451             90.0  \n",
       "452            112.0  \n",
       "453            125.0  \n",
       "454             92.0  \n",
       "\n",
       "[455 rows x 5 columns]"
      ]
     },
     "execution_count": 11,
     "metadata": {},
     "output_type": "execute_result"
    }
   ],
   "source": [
    "# Agrupar por géneros y promediar la calificación\n",
    "df_unique_genre = df_not_null_rating.groupby(['genres']).mean().round()\n",
    "df_unique_genre.reset_index(inplace=True)\n",
    "df_unique_genre"
   ]
  },
  {
   "cell_type": "code",
   "execution_count": 12,
   "metadata": {},
   "outputs": [
    {
     "data": {
      "text/plain": [
       "{'Action': 4.72,\n",
       " 'Adult': 3.57,\n",
       " 'Adventure': 5.09,\n",
       " 'Animation': 5.43,\n",
       " 'Biography': 5.42,\n",
       " 'Comedy': 5.1,\n",
       " 'Crime': 5.15,\n",
       " 'Documentary': 5.81,\n",
       " 'Drama': 5.38,\n",
       " 'Family': 5.35,\n",
       " 'Fantasy': 4.98,\n",
       " 'Film-Noir': 4.21,\n",
       " 'History': 5.73,\n",
       " 'Horror': 3.97,\n",
       " 'Music': 5.59,\n",
       " 'Musical': 6.03,\n",
       " 'Mystery': 4.96,\n",
       " 'News': 2.0,\n",
       " 'Romance': 5.05,\n",
       " 'Sci-Fi': 4.6,\n",
       " 'Short': 8.0,\n",
       " 'Sport': 5.61,\n",
       " 'Thriller': 4.55,\n",
       " 'War': 5.66,\n",
       " 'Western': 4.59}"
      ]
     },
     "execution_count": 12,
     "metadata": {},
     "output_type": "execute_result"
    }
   ],
   "source": [
    "# Inicializar una lista para guardar los géneros\n",
    "simple_genres =[]\n",
    "# Recorrer los conjuntos de géneros de las películas\n",
    "for genre in df_unique_genre['genres']:\n",
    "    # Separar los géneros de cada película\n",
    "    for simple_genre in genre.split(','):\n",
    "        # Agregar el género a la lista\n",
    "        if simple_genre not in simple_genres:\n",
    "            simple_genres.append(simple_genre)\n",
    "# Organizar la lista de géneros\n",
    "simple_genres.sort()\n",
    "\n",
    "# Inicializar un diccionario para guardar los promedios de calificación por género\n",
    "genres_rating = {}\n",
    "# Recorrer la lista de géneros individuales\n",
    "for genre in simple_genres:\n",
    "    # Inicializar una lista para guardar las calificaciones de cada género\n",
    "    ratings = []\n",
    "    for i in range(len(df_unique_genre)):\n",
    "        # Si el género está en el conjunto de géneros de la película\n",
    "        if genre in df_unique_genre['genres'][i]:\n",
    "            # Agregar la calificación de la película a la lista\n",
    "            ratings.append(df_unique_genre['reviewer_rating'][i])\n",
    "    # Calcular el promedio de las calificaciones de cada género\n",
    "    genres_rating[genre] = (sum(ratings) / len(ratings)).round(2)\n",
    "\n",
    "genres_rating\n"
   ]
  },
  {
   "cell_type": "code",
   "execution_count": 13,
   "metadata": {},
   "outputs": [
    {
     "data": {
      "image/png": "[encoded data removed]",
      "text/plain": [
       "<Figure size 1000x500 with 1 Axes>"
      ]
     },
     "metadata": {},
     "output_type": "display_data"
    }
   ],
   "source": [
    "# Visualizar la relación entre el rating y el género\n",
    "\n",
    "genres = list(genres_rating.keys())\n",
    "rating = list(genres_rating.values())\n",
    "\n",
    "fig = plt.figure(figsize = (10, 5))\n",
    "\n",
    "plt.bar(genres, rating, color ='maroon',\n",
    "        width = 0.4)\n",
    "\n",
    "plt.xlabel(\"Genres\")\n",
    "plt.xticks(rotation=90)\n",
    "plt.ylabel(\"Rating\")\n",
    "plt.show()"
   ]
  },
  {
   "cell_type": "markdown",
   "metadata": {},
   "source": [
    "Se puede observar que el género de \"Cortos\" es el que tiene una mayor puntuación, mientras que el género de \"Noticias\" tiene una puntuación muy baja."
   ]
  },
  {
   "cell_type": "markdown",
   "metadata": {},
   "source": [
    "### Relacion reviews negativas vs reviews positivas por genero "
   ]
  },
  {
   "cell_type": "code",
   "execution_count": 8,
   "metadata": {},
   "outputs": [
    {
     "data": {
      "text/plain": [
       "['Action',\n",
       " 'Adult',\n",
       " 'Adventure',\n",
       " 'Animation',\n",
       " 'Biography',\n",
       " 'Comedy',\n",
       " 'Crime',\n",
       " 'Documentary',\n",
       " 'Drama',\n",
       " 'Family',\n",
       " 'Fantasy',\n",
       " 'Film-Noir',\n",
       " 'History',\n",
       " 'Horror',\n",
       " 'Music',\n",
       " 'Musical',\n",
       " 'Mystery',\n",
       " 'News',\n",
       " 'Romance',\n",
       " 'Sci-Fi',\n",
       " 'Short',\n",
       " 'Sport',\n",
       " 'Thriller',\n",
       " 'War',\n",
       " 'Western']"
      ]
     },
     "execution_count": 8,
     "metadata": {},
     "output_type": "execute_result"
    }
   ],
   "source": [
    "# Se eliminan los valores vacios de las columnas 'label' y 'genres'\n",
    "df_not_null = df_movies.dropna(subset=['label','genres'])\n",
    "df_not_null.reset_index(inplace=True)\n",
    "\n",
    "# Se convierte el dataframe en lista\n",
    "list_genres = df_not_null['genres'].tolist()\n",
    "\n",
    "#se obtienen los generos unicos\n",
    "list_genres = list(set(list_genres))\n",
    "genres_unique = []\n",
    "for gen_str in list_genres:\n",
    "    for gen in gen_str.split(','):\n",
    "        if gen not in genres_unique:\n",
    "            genres_unique.append(gen)\n",
    "genres_unique.sort()\n",
    "genres_unique"
   ]
  },
  {
   "cell_type": "code",
   "execution_count": 10,
   "metadata": {},
   "outputs": [],
   "source": [
    "# se eliminan las reviews con la etiqueta 'Unsupervised'\n",
    "df_gen = df_not_null.loc[df_not_null['label'] != 'Unsupervised', :]\n",
    "df_gen.reset_index(inplace=True)"
   ]
  },
  {
   "cell_type": "code",
   "execution_count": 11,
   "metadata": {},
   "outputs": [
    {
     "data": {
      "text/plain": [
       "[('Action', [2641, 3948]),\n",
       " ('Adult', [25, 32]),\n",
       " ('Adventure', [2110, 2238]),\n",
       " ('Animation', [580, 248]),\n",
       " ('Biography', [1033, 505]),\n",
       " ('Comedy', [6464, 5644]),\n",
       " ('Crime', [3197, 2821]),\n",
       " ('Documentary', [622, 375]),\n",
       " ('Drama', [10543, 7715]),\n",
       " ('Family', [973, 717]),\n",
       " ('Fantasy', [1560, 1509]),\n",
       " ('Film-Noir', [341, 111]),\n",
       " ('History', [618, 381]),\n",
       " ('Horror', [2034, 4463]),\n",
       " ('Music', [1338, 773]),\n",
       " ('Musical', [610, 371]),\n",
       " ('Mystery', [1344, 1732]),\n",
       " ('News', [0, 15]),\n",
       " ('Romance', [3829, 2838]),\n",
       " ('Sci-Fi', [976, 1750]),\n",
       " ('Short', [4, 0]),\n",
       " ('Sport', [443, 297]),\n",
       " ('Thriller', [2355, 3240]),\n",
       " ('War', [651, 418]),\n",
       " ('Western', [423, 347])]"
      ]
     },
     "execution_count": 11,
     "metadata": {},
     "output_type": "execute_result"
    }
   ],
   "source": [
    "# Se filtran las reviews positivas y negativas por genero\n",
    "dict_genres = {}\n",
    "for gen in genres_unique:\n",
    "    count_p = 0\n",
    "    count_n = 0\n",
    "    for k in range(len(df_gen)):\n",
    "        if gen in df_gen['genres'][k]:\n",
    "            if 'Positive' in df_gen['label'][k]:\n",
    "                count_p += 1\n",
    "            else:\n",
    "                count_n += 1\n",
    "    dict_genres[gen] = [count_p,count_n]\n",
    "sorted(dict_genres.items())"
   ]
  },
  {
   "cell_type": "code",
   "execution_count": 14,
   "metadata": {},
   "outputs": [
    {
     "data": {
      "text/html": [
       "<div>\n",
       "<style scoped>\n",
       "    .dataframe tbody tr th:only-of-type {\n",
       "        vertical-align: middle;\n",
       "    }\n",
       "\n",
       "    .dataframe tbody tr th {\n",
       "        vertical-align: top;\n",
       "    }\n",
       "\n",
       "    .dataframe thead th {\n",
       "        text-align: right;\n",
       "    }\n",
       "</style>\n",
       "<table border=\"1\" class=\"dataframe\">\n",
       "  <thead>\n",
       "    <tr style=\"text-align: right;\">\n",
       "      <th></th>\n",
       "      <th>genres</th>\n",
       "      <th>positive_reviews</th>\n",
       "    </tr>\n",
       "  </thead>\n",
       "  <tbody>\n",
       "    <tr>\n",
       "      <th>8</th>\n",
       "      <td>Drama</td>\n",
       "      <td>10543</td>\n",
       "    </tr>\n",
       "    <tr>\n",
       "      <th>5</th>\n",
       "      <td>Comedy</td>\n",
       "      <td>6464</td>\n",
       "    </tr>\n",
       "    <tr>\n",
       "      <th>18</th>\n",
       "      <td>Romance</td>\n",
       "      <td>3829</td>\n",
       "    </tr>\n",
       "    <tr>\n",
       "      <th>6</th>\n",
       "      <td>Crime</td>\n",
       "      <td>3197</td>\n",
       "    </tr>\n",
       "    <tr>\n",
       "      <th>0</th>\n",
       "      <td>Action</td>\n",
       "      <td>2641</td>\n",
       "    </tr>\n",
       "    <tr>\n",
       "      <th>22</th>\n",
       "      <td>Thriller</td>\n",
       "      <td>2355</td>\n",
       "    </tr>\n",
       "    <tr>\n",
       "      <th>2</th>\n",
       "      <td>Adventure</td>\n",
       "      <td>2110</td>\n",
       "    </tr>\n",
       "    <tr>\n",
       "      <th>13</th>\n",
       "      <td>Horror</td>\n",
       "      <td>2034</td>\n",
       "    </tr>\n",
       "    <tr>\n",
       "      <th>10</th>\n",
       "      <td>Fantasy</td>\n",
       "      <td>1560</td>\n",
       "    </tr>\n",
       "    <tr>\n",
       "      <th>16</th>\n",
       "      <td>Mystery</td>\n",
       "      <td>1344</td>\n",
       "    </tr>\n",
       "    <tr>\n",
       "      <th>14</th>\n",
       "      <td>Music</td>\n",
       "      <td>1338</td>\n",
       "    </tr>\n",
       "    <tr>\n",
       "      <th>4</th>\n",
       "      <td>Biography</td>\n",
       "      <td>1033</td>\n",
       "    </tr>\n",
       "    <tr>\n",
       "      <th>19</th>\n",
       "      <td>Sci-Fi</td>\n",
       "      <td>976</td>\n",
       "    </tr>\n",
       "    <tr>\n",
       "      <th>9</th>\n",
       "      <td>Family</td>\n",
       "      <td>973</td>\n",
       "    </tr>\n",
       "    <tr>\n",
       "      <th>23</th>\n",
       "      <td>War</td>\n",
       "      <td>651</td>\n",
       "    </tr>\n",
       "    <tr>\n",
       "      <th>7</th>\n",
       "      <td>Documentary</td>\n",
       "      <td>622</td>\n",
       "    </tr>\n",
       "    <tr>\n",
       "      <th>12</th>\n",
       "      <td>History</td>\n",
       "      <td>618</td>\n",
       "    </tr>\n",
       "    <tr>\n",
       "      <th>15</th>\n",
       "      <td>Musical</td>\n",
       "      <td>610</td>\n",
       "    </tr>\n",
       "    <tr>\n",
       "      <th>3</th>\n",
       "      <td>Animation</td>\n",
       "      <td>580</td>\n",
       "    </tr>\n",
       "    <tr>\n",
       "      <th>21</th>\n",
       "      <td>Sport</td>\n",
       "      <td>443</td>\n",
       "    </tr>\n",
       "    <tr>\n",
       "      <th>24</th>\n",
       "      <td>Western</td>\n",
       "      <td>423</td>\n",
       "    </tr>\n",
       "    <tr>\n",
       "      <th>11</th>\n",
       "      <td>Film-Noir</td>\n",
       "      <td>341</td>\n",
       "    </tr>\n",
       "    <tr>\n",
       "      <th>1</th>\n",
       "      <td>Adult</td>\n",
       "      <td>25</td>\n",
       "    </tr>\n",
       "    <tr>\n",
       "      <th>20</th>\n",
       "      <td>Short</td>\n",
       "      <td>4</td>\n",
       "    </tr>\n",
       "    <tr>\n",
       "      <th>17</th>\n",
       "      <td>News</td>\n",
       "      <td>0</td>\n",
       "    </tr>\n",
       "  </tbody>\n",
       "</table>\n",
       "</div>"
      ],
      "text/plain": [
       "         genres  positive_reviews\n",
       "8         Drama             10543\n",
       "5        Comedy              6464\n",
       "18      Romance              3829\n",
       "6         Crime              3197\n",
       "0        Action              2641\n",
       "22     Thriller              2355\n",
       "2     Adventure              2110\n",
       "13       Horror              2034\n",
       "10      Fantasy              1560\n",
       "16      Mystery              1344\n",
       "14        Music              1338\n",
       "4     Biography              1033\n",
       "19       Sci-Fi               976\n",
       "9        Family               973\n",
       "23          War               651\n",
       "7   Documentary               622\n",
       "12      History               618\n",
       "15      Musical               610\n",
       "3     Animation               580\n",
       "21        Sport               443\n",
       "24      Western               423\n",
       "11    Film-Noir               341\n",
       "1         Adult                25\n",
       "20        Short                 4\n",
       "17         News                 0"
      ]
     },
     "execution_count": 14,
     "metadata": {},
     "output_type": "execute_result"
    }
   ],
   "source": [
    "# Top de generos con mas reviews positivas\n",
    "df_genres_sort = pd.DataFrame([[key, dict_genres[key][0]] for key in dict_genres.keys()], columns=['genres', 'positive_reviews'])\n",
    "df_genres_sort.sort_values('positive_reviews',ascending=False)"
   ]
  },
  {
   "cell_type": "code",
   "execution_count": 15,
   "metadata": {},
   "outputs": [
    {
     "data": {
      "text/html": [
       "<div>\n",
       "<style scoped>\n",
       "    .dataframe tbody tr th:only-of-type {\n",
       "        vertical-align: middle;\n",
       "    }\n",
       "\n",
       "    .dataframe tbody tr th {\n",
       "        vertical-align: top;\n",
       "    }\n",
       "\n",
       "    .dataframe thead th {\n",
       "        text-align: right;\n",
       "    }\n",
       "</style>\n",
       "<table border=\"1\" class=\"dataframe\">\n",
       "  <thead>\n",
       "    <tr style=\"text-align: right;\">\n",
       "      <th></th>\n",
       "      <th>genres</th>\n",
       "      <th>negative_reviews</th>\n",
       "    </tr>\n",
       "  </thead>\n",
       "  <tbody>\n",
       "    <tr>\n",
       "      <th>8</th>\n",
       "      <td>Drama</td>\n",
       "      <td>7715</td>\n",
       "    </tr>\n",
       "    <tr>\n",
       "      <th>5</th>\n",
       "      <td>Comedy</td>\n",
       "      <td>5644</td>\n",
       "    </tr>\n",
       "    <tr>\n",
       "      <th>13</th>\n",
       "      <td>Horror</td>\n",
       "      <td>4463</td>\n",
       "    </tr>\n",
       "    <tr>\n",
       "      <th>0</th>\n",
       "      <td>Action</td>\n",
       "      <td>3948</td>\n",
       "    </tr>\n",
       "    <tr>\n",
       "      <th>22</th>\n",
       "      <td>Thriller</td>\n",
       "      <td>3240</td>\n",
       "    </tr>\n",
       "    <tr>\n",
       "      <th>18</th>\n",
       "      <td>Romance</td>\n",
       "      <td>2838</td>\n",
       "    </tr>\n",
       "    <tr>\n",
       "      <th>6</th>\n",
       "      <td>Crime</td>\n",
       "      <td>2821</td>\n",
       "    </tr>\n",
       "    <tr>\n",
       "      <th>2</th>\n",
       "      <td>Adventure</td>\n",
       "      <td>2238</td>\n",
       "    </tr>\n",
       "    <tr>\n",
       "      <th>19</th>\n",
       "      <td>Sci-Fi</td>\n",
       "      <td>1750</td>\n",
       "    </tr>\n",
       "    <tr>\n",
       "      <th>16</th>\n",
       "      <td>Mystery</td>\n",
       "      <td>1732</td>\n",
       "    </tr>\n",
       "    <tr>\n",
       "      <th>10</th>\n",
       "      <td>Fantasy</td>\n",
       "      <td>1509</td>\n",
       "    </tr>\n",
       "    <tr>\n",
       "      <th>14</th>\n",
       "      <td>Music</td>\n",
       "      <td>773</td>\n",
       "    </tr>\n",
       "    <tr>\n",
       "      <th>9</th>\n",
       "      <td>Family</td>\n",
       "      <td>717</td>\n",
       "    </tr>\n",
       "    <tr>\n",
       "      <th>4</th>\n",
       "      <td>Biography</td>\n",
       "      <td>505</td>\n",
       "    </tr>\n",
       "    <tr>\n",
       "      <th>23</th>\n",
       "      <td>War</td>\n",
       "      <td>418</td>\n",
       "    </tr>\n",
       "    <tr>\n",
       "      <th>12</th>\n",
       "      <td>History</td>\n",
       "      <td>381</td>\n",
       "    </tr>\n",
       "    <tr>\n",
       "      <th>7</th>\n",
       "      <td>Documentary</td>\n",
       "      <td>375</td>\n",
       "    </tr>\n",
       "    <tr>\n",
       "      <th>15</th>\n",
       "      <td>Musical</td>\n",
       "      <td>371</td>\n",
       "    </tr>\n",
       "    <tr>\n",
       "      <th>24</th>\n",
       "      <td>Western</td>\n",
       "      <td>347</td>\n",
       "    </tr>\n",
       "    <tr>\n",
       "      <th>21</th>\n",
       "      <td>Sport</td>\n",
       "      <td>297</td>\n",
       "    </tr>\n",
       "    <tr>\n",
       "      <th>3</th>\n",
       "      <td>Animation</td>\n",
       "      <td>248</td>\n",
       "    </tr>\n",
       "    <tr>\n",
       "      <th>11</th>\n",
       "      <td>Film-Noir</td>\n",
       "      <td>111</td>\n",
       "    </tr>\n",
       "    <tr>\n",
       "      <th>1</th>\n",
       "      <td>Adult</td>\n",
       "      <td>32</td>\n",
       "    </tr>\n",
       "    <tr>\n",
       "      <th>17</th>\n",
       "      <td>News</td>\n",
       "      <td>15</td>\n",
       "    </tr>\n",
       "    <tr>\n",
       "      <th>20</th>\n",
       "      <td>Short</td>\n",
       "      <td>0</td>\n",
       "    </tr>\n",
       "  </tbody>\n",
       "</table>\n",
       "</div>"
      ],
      "text/plain": [
       "         genres  negative_reviews\n",
       "8         Drama              7715\n",
       "5        Comedy              5644\n",
       "13       Horror              4463\n",
       "0        Action              3948\n",
       "22     Thriller              3240\n",
       "18      Romance              2838\n",
       "6         Crime              2821\n",
       "2     Adventure              2238\n",
       "19       Sci-Fi              1750\n",
       "16      Mystery              1732\n",
       "10      Fantasy              1509\n",
       "14        Music               773\n",
       "9        Family               717\n",
       "4     Biography               505\n",
       "23          War               418\n",
       "12      History               381\n",
       "7   Documentary               375\n",
       "15      Musical               371\n",
       "24      Western               347\n",
       "21        Sport               297\n",
       "3     Animation               248\n",
       "11    Film-Noir               111\n",
       "1         Adult                32\n",
       "17         News                15\n",
       "20        Short                 0"
      ]
     },
     "execution_count": 15,
     "metadata": {},
     "output_type": "execute_result"
    }
   ],
   "source": [
    "# Top de generos con mas reviews negativas\n",
    "df_genres_sort = pd.DataFrame([[key, dict_genres[key][1]] for key in dict_genres.keys()], columns=['genres', 'negative_reviews'])\n",
    "df_genres_sort.sort_values('negative_reviews',ascending=False)"
   ]
  },
  {
   "cell_type": "code",
   "execution_count": 16,
   "metadata": {},
   "outputs": [
    {
     "data": {
      "text/plain": [
       "<AxesSubplot: >"
      ]
     },
     "execution_count": 16,
     "metadata": {},
     "output_type": "execute_result"
    },
    {
     "data": {
      "image/png": "[encoded data removed]",
      "text/plain": [
       "<Figure size 640x480 with 1 Axes>"
      ]
     },
     "metadata": {},
     "output_type": "display_data"
    }
   ],
   "source": [
    "# Visualizar la relación entre reviews negativas vs reviews positivas\n",
    "data = pd.DataFrame([[dict_genres[key][0], dict_genres[key][1]] for key in dict_genres.keys()],\n",
    "                              columns=['positive_reviews', 'negative_reviews'], index=dict_genres.keys())\n",
    "\n",
    "data.plot(kind = 'bar')"
   ]
  },
  {
   "cell_type": "markdown",
   "metadata": {},
   "source": [
    "# Machine Learning model"
   ]
  },
  {
   "cell_type": "code",
   "execution_count": 14,
   "metadata": {},
   "outputs": [
    {
     "data": {
      "text/plain": [
       "Unsupervised    37883\n",
       "Positive        18710\n",
       "Negative        18161\n",
       "Name: label, dtype: int64"
      ]
     },
     "execution_count": 14,
     "metadata": {},
     "output_type": "execute_result"
    }
   ],
   "source": [
    "#Obervamos los diferentes valores que estan en la columna label y si estos estan balanceados\n",
    "df_movies['label'].value_counts()"
   ]
  },
  {
   "cell_type": "code",
   "execution_count": 15,
   "metadata": {},
   "outputs": [],
   "source": [
    "#Para entrenar el modelo necesitamos unicamente las reviews con los datos etiquetados,\n",
    "#los datos que dicen Unsupervised son usados para implementar modelos de machine learning no supervisados\n",
    "#como no es nuestro caso, los eliminamos\n",
    "data_model = df_movies[['review','label']].loc[df_movies['label']!='Unsupervised']"
   ]
  },
  {
   "cell_type": "code",
   "execution_count": 16,
   "metadata": {},
   "outputs": [
    {
     "data": {
      "text/html": [
       "<div>\n",
       "<style scoped>\n",
       "    .dataframe tbody tr th:only-of-type {\n",
       "        vertical-align: middle;\n",
       "    }\n",
       "\n",
       "    .dataframe tbody tr th {\n",
       "        vertical-align: top;\n",
       "    }\n",
       "\n",
       "    .dataframe thead th {\n",
       "        text-align: right;\n",
       "    }\n",
       "</style>\n",
       "<table border=\"1\" class=\"dataframe\">\n",
       "  <thead>\n",
       "    <tr style=\"text-align: right;\">\n",
       "      <th></th>\n",
       "      <th>review</th>\n",
       "      <th>label</th>\n",
       "    </tr>\n",
       "  </thead>\n",
       "  <tbody>\n",
       "    <tr>\n",
       "      <th>0</th>\n",
       "      <td>hair, the movie based on the broadway hit,fail...</td>\n",
       "      <td>Negative</td>\n",
       "    </tr>\n",
       "    <tr>\n",
       "      <th>1</th>\n",
       "      <td>This film is an insult to the play upon which ...</td>\n",
       "      <td>Negative</td>\n",
       "    </tr>\n",
       "    <tr>\n",
       "      <th>2</th>\n",
       "      <td>I should start off by saying I have something ...</td>\n",
       "      <td>Negative</td>\n",
       "    </tr>\n",
       "    <tr>\n",
       "      <th>3</th>\n",
       "      <td>I've liked Milos Forman's movies since I saw \"...</td>\n",
       "      <td>Negative</td>\n",
       "    </tr>\n",
       "    <tr>\n",
       "      <th>4</th>\n",
       "      <td>I was a hippie age 22 in 1965, have seen the p...</td>\n",
       "      <td>Negative</td>\n",
       "    </tr>\n",
       "  </tbody>\n",
       "</table>\n",
       "</div>"
      ],
      "text/plain": [
       "                                              review     label\n",
       "0  hair, the movie based on the broadway hit,fail...  Negative\n",
       "1  This film is an insult to the play upon which ...  Negative\n",
       "2  I should start off by saying I have something ...  Negative\n",
       "3  I've liked Milos Forman's movies since I saw \"...  Negative\n",
       "4  I was a hippie age 22 in 1965, have seen the p...  Negative"
      ]
     },
     "execution_count": 16,
     "metadata": {},
     "output_type": "execute_result"
    }
   ],
   "source": [
    "data_model.head()"
   ]
  },
  {
   "cell_type": "code",
   "execution_count": 17,
   "metadata": {},
   "outputs": [
    {
     "data": {
      "text/plain": [
       "Positive    18710\n",
       "Negative    18161\n",
       "Name: label, dtype: int64"
      ]
     },
     "execution_count": 17,
     "metadata": {},
     "output_type": "execute_result"
    }
   ],
   "source": [
    "#observamos que el dataset se encuentra balanceado(Que la cantidad de valores de cada clase sean similares)\n",
    "data_model['label'].value_counts()"
   ]
  },
  {
   "cell_type": "code",
   "execution_count": 18,
   "metadata": {},
   "outputs": [
    {
     "name": "stderr",
     "output_type": "stream",
     "text": [
      "[nltk_data] Downloading package stopwords to C:\\Users\\Pablo\n",
      "[nltk_data]     Tamayo\\AppData\\Roaming\\nltk_data...\n",
      "[nltk_data]   Package stopwords is already up-to-date!\n"
     ]
    }
   ],
   "source": [
    "#importamos la clase que creamos para procesar el dataset\n",
    "from MLModelPreprocess import DataPreprocess"
   ]
  },
  {
   "cell_type": "code",
   "execution_count": 19,
   "metadata": {},
   "outputs": [],
   "source": [
    "#inicializamos el objeto y realizamos el preprocesamiento del dataset\n",
    "preprocess = DataPreprocess(data_model)\n",
    "\n",
    "clean_text = preprocess.convert_data()"
   ]
  },
  {
   "cell_type": "code",
   "execution_count": 20,
   "metadata": {},
   "outputs": [
    {
     "name": "stdout",
     "output_type": "stream",
     "text": [
      "Texto procesado: this film insult the play upon which base the charact claud has been warp beyond recognit leav pain perform that doe not even vagu resembl the origin plot shame shame shame they have also cut fair number the origin score chang the context which the song are sung this warp the air the film and caus the viewer who awar how this should winc the writer this screen play give hud wife turn sheila into spoil rich girl character claud cowboy and kill burger send him vietnam instead one not familiar with the origin plot assur you this not bad film for you see but you ever wish see the origin are die hard fan the classic play you would best avoid the film altogeth one realli must stick one the other\n",
      "--------------\n",
      "Texto original: This film is an insult to the play upon which it is based. The character of Claude has been warped beyond recognition leaving a painful performance that does not even vaguely resemble the original plot. Shame, shame, shame. They have also cut a fair number of the original score of change the context in which the songs are sung. This warps the air of the film and causes the viewer who is aware of how this should be to wince as the writer of this screen play gives Hud a wife,turns Sheila into a spoiled rich girl, characterizes Claude as a cowboy, and kills Burger by sending him to Vietnam instead. If one is not familiar with the original plot I assure you this is not a bad film for you to see, but if you ever wish to see the original or are, as I am, a die-hard fan of the classic play, you would do best to avoid the film altogether. One really must stick to one or the other.\n"
     ]
    }
   ],
   "source": [
    "#Comparamos el texto antes y despues de ser procesado:\n",
    "print(f'Texto procesado: {clean_text[1]}')\n",
    "print('--------------')\n",
    "print(f\"Texto original: {data_model['review'][1]}\")"
   ]
  },
  {
   "cell_type": "code",
   "execution_count": 21,
   "metadata": {},
   "outputs": [],
   "source": [
    "# Vectorizamos el dataset, como resultado obtenemos una matriz con 2500 columnas\n",
    "#  correspondientes a el numero de palabras distintas, cabe resaltar que el limite de 2500 lo pusimos nosotros \n",
    "# para no alargar el procesamiento.\n",
    "# Vectorizer el el que vecroiza cada frase, nos servirá ára hacer puturas predicciones \n",
    "vectorizer, text_features = preprocess.vectroize_data(clean_text)\n"
   ]
  },
  {
   "cell_type": "code",
   "execution_count": 26,
   "metadata": {},
   "outputs": [
    {
     "name": "stdout",
     "output_type": "stream",
     "text": [
      "(36871, 2500)\n"
     ]
    }
   ],
   "source": [
    "#dimensión de los datos que se entrenaran\n",
    "print(text_features.shape)"
   ]
  },
  {
   "cell_type": "code",
   "execution_count": 22,
   "metadata": {},
   "outputs": [],
   "source": [
    "#division del dataset en entrenamiento y prueba: El dataset por defecto traia el mismo numero de train y test en la \n",
    "#columna split, por lo que ignoraremos esa notación y crearemos nuestro propio conjunto de entrenamiento y prueba\n",
    "# tomando el 20% de los datos como test\n",
    "from sklearn.model_selection import train_test_split\n",
    "from sklearn.naive_bayes import MultinomialNB\n",
    "from sklearn.metrics import classification_report, confusion_matrix, accuracy_score\n",
    "\n",
    "X_train, X_test, y_train, y_test = train_test_split(text_features, data_model['label'], test_size=0.2, random_state=0)"
   ]
  },
  {
   "cell_type": "code",
   "execution_count": 23,
   "metadata": {},
   "outputs": [
    {
     "data": {
      "text/html": [
       "<style>#sk-container-id-1 {color: black;background-color: white;}#sk-container-id-1 pre{padding: 0;}#sk-container-id-1 div.sk-toggleable {background-color: white;}#sk-container-id-1 label.sk-toggleable__label {cursor: pointer;display: block;width: 100%;margin-bottom: 0;padding: 0.3em;box-sizing: border-box;text-align: center;}#sk-container-id-1 label.sk-toggleable__label-arrow:before {content: \"▸\";float: left;margin-right: 0.25em;color: #696969;}#sk-container-id-1 label.sk-toggleable__label-arrow:hover:before {color: black;}#sk-container-id-1 div.sk-estimator:hover label.sk-toggleable__label-arrow:before {color: black;}#sk-container-id-1 div.sk-toggleable__content {max-height: 0;max-width: 0;overflow: hidden;text-align: left;background-color: #f0f8ff;}#sk-container-id-1 div.sk-toggleable__content pre {margin: 0.2em;color: black;border-radius: 0.25em;background-color: #f0f8ff;}#sk-container-id-1 input.sk-toggleable__control:checked~div.sk-toggleable__content {max-height: 200px;max-width: 100%;overflow: auto;}#sk-container-id-1 input.sk-toggleable__control:checked~label.sk-toggleable__label-arrow:before {content: \"▾\";}#sk-container-id-1 div.sk-estimator input.sk-toggleable__control:checked~label.sk-toggleable__label {background-color: #d4ebff;}#sk-container-id-1 div.sk-label input.sk-toggleable__control:checked~label.sk-toggleable__label {background-color: #d4ebff;}#sk-container-id-1 input.sk-hidden--visually {border: 0;clip: rect(1px 1px 1px 1px);clip: rect(1px, 1px, 1px, 1px);height: 1px;margin: -1px;overflow: hidden;padding: 0;position: absolute;width: 1px;}#sk-container-id-1 div.sk-estimator {font-family: monospace;background-color: #f0f8ff;border: 1px dotted black;border-radius: 0.25em;box-sizing: border-box;margin-bottom: 0.5em;}#sk-container-id-1 div.sk-estimator:hover {background-color: #d4ebff;}#sk-container-id-1 div.sk-parallel-item::after {content: \"\";width: 100%;border-bottom: 1px solid gray;flex-grow: 1;}#sk-container-id-1 div.sk-label:hover label.sk-toggleable__label {background-color: #d4ebff;}#sk-container-id-1 div.sk-serial::before {content: \"\";position: absolute;border-left: 1px solid gray;box-sizing: border-box;top: 0;bottom: 0;left: 50%;z-index: 0;}#sk-container-id-1 div.sk-serial {display: flex;flex-direction: column;align-items: center;background-color: white;padding-right: 0.2em;padding-left: 0.2em;position: relative;}#sk-container-id-1 div.sk-item {position: relative;z-index: 1;}#sk-container-id-1 div.sk-parallel {display: flex;align-items: stretch;justify-content: center;background-color: white;position: relative;}#sk-container-id-1 div.sk-item::before, #sk-container-id-1 div.sk-parallel-item::before {content: \"\";position: absolute;border-left: 1px solid gray;box-sizing: border-box;top: 0;bottom: 0;left: 50%;z-index: -1;}#sk-container-id-1 div.sk-parallel-item {display: flex;flex-direction: column;z-index: 1;position: relative;background-color: white;}#sk-container-id-1 div.sk-parallel-item:first-child::after {align-self: flex-end;width: 50%;}#sk-container-id-1 div.sk-parallel-item:last-child::after {align-self: flex-start;width: 50%;}#sk-container-id-1 div.sk-parallel-item:only-child::after {width: 0;}#sk-container-id-1 div.sk-dashed-wrapped {border: 1px dashed gray;margin: 0 0.4em 0.5em 0.4em;box-sizing: border-box;padding-bottom: 0.4em;background-color: white;}#sk-container-id-1 div.sk-label label {font-family: monospace;font-weight: bold;display: inline-block;line-height: 1.2em;}#sk-container-id-1 div.sk-label-container {text-align: center;}#sk-container-id-1 div.sk-container {/* jupyter's `normalize.less` sets `[hidden] { display: none; }` but bootstrap.min.css set `[hidden] { display: none !important; }` so we also need the `!important` here to be able to override the default hidden behavior on the sphinx rendered scikit-learn.org. See: https://github.com/scikit-learn/scikit-learn/issues/21755 */display: inline-block !important;position: relative;}#sk-container-id-1 div.sk-text-repr-fallback {display: none;}</style><div id=\"sk-container-id-1\" class=\"sk-top-container\"><div class=\"sk-text-repr-fallback\"><pre>MultinomialNB()</pre><b>In a Jupyter environment, please rerun this cell to show the HTML representation or trust the notebook. <br />On GitHub, the HTML representation is unable to render, please try loading this page with nbviewer.org.</b></div><div class=\"sk-container\" hidden><div class=\"sk-item\"><div class=\"sk-estimator sk-toggleable\"><input class=\"sk-toggleable__control sk-hidden--visually\" id=\"sk-estimator-id-1\" type=\"checkbox\" checked><label for=\"sk-estimator-id-1\" class=\"sk-toggleable__label sk-toggleable__label-arrow\">MultinomialNB</label><div class=\"sk-toggleable__content\"><pre>MultinomialNB()</pre></div></div></div></div></div>"
      ],
      "text/plain": [
       "MultinomialNB()"
      ]
     },
     "execution_count": 23,
     "metadata": {},
     "output_type": "execute_result"
    }
   ],
   "source": [
    "# para el problema implementamos naive bayes, el cual tiene buen comportamiento en texto gracias\n",
    "#  a la probabilidad condicional que implementa\n",
    "nb = MultinomialNB()\n",
    "nb.fit(X_train, y_train)"
   ]
  },
  {
   "cell_type": "code",
   "execution_count": 31,
   "metadata": {},
   "outputs": [
    {
     "name": "stdout",
     "output_type": "stream",
     "text": [
      "Accuracy sobre el entrenamiento: 84.69 %\n",
      "Accuracy sobre el test: 84.88 %\n"
     ]
    }
   ],
   "source": [
    "predictions_train = nb.predict(X_train)\n",
    "predictions_test = nb.predict(X_test)\n",
    "\n",
    "print(f'Accuracy sobre el entrenamiento: {(accuracy_score(y_train, predictions_train)*100):.2f} %')\n",
    "print(f'Accuracy sobre el test: {(accuracy_score(y_test, predictions_test)*100):.2f} %')\n",
    "#Esto se hizo con el fin de saber si noestro modelo estaba sobre entrenado, pero vemos que como hay una similitud\n",
    "#en los resultados de entrenamiento y prueba quiere decir que no es el caso.\n",
    "\n"
   ]
  },
  {
   "cell_type": "code",
   "execution_count": 41,
   "metadata": {},
   "outputs": [],
   "source": [
    "#creamos una funcion para realizar predicciones\n",
    "def make_prediction(review, vectorizer_text=vectorizer, model_predict=nb, object_prepro=preprocess):\n",
    "    '''\n",
    "    Esta función recibe una review y retorna la polaridad (positiva o negativa)\n",
    "    review: Review que será clasificada\n",
    "    vectorizer_text: objeto que vectoriza la frase\n",
    "    model_predict: modelo previamente entrenado que se usará para realizar la predicción\n",
    "    object_prepro = objeto para preprocesar el texto\n",
    "\n",
    "    return: polaridad de la review(positivo, negativo) \n",
    "    '''\n",
    "\n",
    "    preprocessed_text = object_prepro.processing_text(review)\n",
    "    text_vector = vectorizer_text.transform([preprocessed_text]).toarray()\n",
    "\n",
    "    prediction = model_predict.predict(text_vector)\n",
    "\n",
    "    return prediction"
   ]
  },
  {
   "cell_type": "code",
   "execution_count": 49,
   "metadata": {},
   "outputs": [
    {
     "name": "stdout",
     "output_type": "stream",
     "text": [
      "\n",
      "      Predicción review 1: This movie is horrible = ['Negative']\n",
      "      Predicción review 2: this movie is awesome = ['Positive']\n",
      "\n"
     ]
    }
   ],
   "source": [
    "# probamos nuestro modelo con nuevas predicciones \n",
    "review_1 = 'This movie is horrible'\n",
    "review_2 = 'this movie is awesome'\n",
    "\n",
    "pred_1 = make_prediction(review_1)\n",
    "pred_2 = make_prediction(review_2)\n",
    "print(f'''\n",
    "      Predicción review 1: {review_1} = {pred_1}\n",
    "      Predicción review 2: {review_2} = {pred_2}\n",
    "''')"
   ]
  }
 ],
 "metadata": {
  "kernelspec": {
   "display_name": "Python 3 (ipykernel)",
   "language": "python",
   "name": "python3"
  },
  "language_info": {
   "codemirror_mode": {
    "name": "ipython",
    "version": 3
   },
   "file_extension": ".py",
   "mimetype": "text/x-python",
   "name": "python",
   "nbconvert_exporter": "python",
   "pygments_lexer": "ipython3",
   "version": "3.10.6"
  },
  "vscode": {
   "interpreter": {
    "hash": "5269ed5103d89e34524edfff97727670810407cc0729f730c1eecabbff2a5a58"
   }
  }
 },
 "nbformat": 4,
 "nbformat_minor": 2
}
