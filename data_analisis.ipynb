{
 "cells": [
  {
   "cell_type": "markdown",
   "metadata": {},
   "source": [
    "# Conexión con BigQuery"
   ]
  },
  {
   "cell_type": "code",
   "execution_count": 2,
   "metadata": {},
   "outputs": [],
   "source": [
    "import os\n",
    "os.environ[\"GOOGLE_APPLICATION_CREDENTIALS\"]=\"E:/Desktop/Python Top Gun Lab/final_project/centering-valve-358203-eb0bab19cd78.json\"\n"
   ]
  },
  {
   "cell_type": "code",
   "execution_count": 3,
   "metadata": {},
   "outputs": [],
   "source": [
    "from google.cloud import bigquery\n",
    "\n",
    "# Construct a BigQuery client object.\n",
    "client = bigquery.Client()\n",
    "\n",
    "query = \"\"\"\n",
    "    SELECT * \n",
    "    FROM `bigquery-public-data.imdb.reviews` as reviews\n",
    "    INNER JOIN `bigquery-public-data.imdb.title_basics` as titles\n",
    "    ON reviews.movie_id = titles.tconst\n",
    "\"\"\"\n",
    "df = client.query(query).to_dataframe()  # Make an API request.\n"
   ]
  },
  {
   "cell_type": "markdown",
   "metadata": {},
   "source": [
    "# Análisis de datos\n",
    "El dataset que se esocogio fue el de IMDB, del cual seleccionamos dos tablas: reviews y title_basics las cuales se relacionan por medio de la columna movie_id y tconst.\n",
    "Como resultado tenemos un dataset de 94674 filas y 16 columnas previo a su limpieza.\n",
    "Respecto a cada columna tenemos:\n",
    "1. Reviews: hace referencia a la review de cierta pelicula/Serie/show/etc realizada por un usuario\n",
    "2. split: etiquta la fila para pertenecer a un subconjuto de datos: train y test, para posteriormente ser entrenada en un modelo de machine learning\n",
    "3. label: Etiqueta que le asigna la polaridad de la review realizada(Positiva o negativa)\n",
    "4. movie_id: caracter alfanumerico que identifica el producto audiovisual\n",
    "5. reviewer_rating: El rating que le dio la persona que realizó la review \n",
    "6. movie_url: url para ver la información de la película en imdb \n",
    "7. title: titulo de la pelicula \n",
    "8. tconst: caracter alfanumerico que identifica el producto audiovisual\n",
    "9. title_type: tipo de producto audiovisual: serie, pelicula, short, tvshow, etc\n",
    "10. primary_title: El titulo mas popular.\n",
    "11. original_title: El titulo original en el idioma original\n",
    "12. is_adult: Si la pellicula es para adultos o no\n",
    "13. start_year: Año de lanzamiento\n",
    "14. end_year: año en que termino en caso de ser una serie o show\n",
    "15. runtime_minutes: tiempo de duración\n",
    "16. genres: Generos a losque pertenece la pelicula \n",
    " "
   ]
  },
  {
   "cell_type": "code",
   "execution_count": 4,
   "metadata": {},
   "outputs": [
    {
     "name": "stdout",
     "output_type": "stream",
     "text": [
      "<class 'pandas.core.frame.DataFrame'>\n",
      "RangeIndex: 94674 entries, 0 to 94673\n",
      "Data columns (total 16 columns):\n",
      " #   Column           Non-Null Count  Dtype \n",
      "---  ------           --------------  ----- \n",
      " 0   review           94674 non-null  object\n",
      " 1   split            94674 non-null  object\n",
      " 2   label            94674 non-null  object\n",
      " 3   movie_id         94674 non-null  object\n",
      " 4   reviewer_rating  47285 non-null  Int64 \n",
      " 5   movie_url        94674 non-null  object\n",
      " 6   title            94673 non-null  object\n",
      " 7   tconst           94674 non-null  object\n",
      " 8   title_type       94674 non-null  object\n",
      " 9   primary_title    94674 non-null  object\n",
      " 10  original_title   94674 non-null  object\n",
      " 11  is_adult         94674 non-null  Int64 \n",
      " 12  start_year       94669 non-null  Int64 \n",
      " 13  end_year         4834 non-null   Int64 \n",
      " 14  runtime_minutes  93779 non-null  Int64 \n",
      " 15  genres           94628 non-null  object\n",
      "dtypes: Int64(5), object(11)\n",
      "memory usage: 12.0+ MB\n"
     ]
    }
   ],
   "source": [
    "#Los tipos de datos se encuentran a continuacion donde object hace referencia a string, int a entero\n",
    "df.info()"
   ]
  },
  {
   "cell_type": "code",
   "execution_count": 7,
   "metadata": {},
   "outputs": [
    {
     "data": {
      "text/plain": [
       "movie           74754\n",
       "tvMovie          5788\n",
       "video            4835\n",
       "tvSeries         4104\n",
       "short            1675\n",
       "tvMiniSeries     1502\n",
       "tvEpisode        1241\n",
       "videoGame         385\n",
       "tvSpecial         334\n",
       "tvShort            56\n",
       "Name: title_type, dtype: int64"
      ]
     },
     "execution_count": 7,
     "metadata": {},
     "output_type": "execute_result"
    }
   ],
   "source": [
    "#diferentes tipos de formatos audiovisuales, solo nos interesan las peliculas\n",
    "df['title_type'].value_counts()"
   ]
  },
  {
   "cell_type": "code",
   "execution_count": 5,
   "metadata": {},
   "outputs": [
    {
     "data": {
      "text/plain": [
       "(74754, 16)"
      ]
     },
     "execution_count": 5,
     "metadata": {},
     "output_type": "execute_result"
    }
   ],
   "source": [
    "#Dimensión del dataset luego de solo elegir las peliculas\n",
    "df_movies = df.loc[df['title_type'] == 'movie'].reset_index(drop=True)\n",
    "df_movies.shape"
   ]
  },
  {
   "cell_type": "code",
   "execution_count": 6,
   "metadata": {},
   "outputs": [
    {
     "data": {
      "text/html": [
       "<div>\n",
       "<style scoped>\n",
       "    .dataframe tbody tr th:only-of-type {\n",
       "        vertical-align: middle;\n",
       "    }\n",
       "\n",
       "    .dataframe tbody tr th {\n",
       "        vertical-align: top;\n",
       "    }\n",
       "\n",
       "    .dataframe thead th {\n",
       "        text-align: right;\n",
       "    }\n",
       "</style>\n",
       "<table border=\"1\" class=\"dataframe\">\n",
       "  <thead>\n",
       "    <tr style=\"text-align: right;\">\n",
       "      <th></th>\n",
       "      <th>review</th>\n",
       "      <th>split</th>\n",
       "      <th>label</th>\n",
       "      <th>movie_id</th>\n",
       "      <th>reviewer_rating</th>\n",
       "      <th>movie_url</th>\n",
       "      <th>title</th>\n",
       "      <th>tconst</th>\n",
       "      <th>title_type</th>\n",
       "      <th>primary_title</th>\n",
       "      <th>original_title</th>\n",
       "      <th>is_adult</th>\n",
       "      <th>start_year</th>\n",
       "      <th>end_year</th>\n",
       "      <th>runtime_minutes</th>\n",
       "      <th>genres</th>\n",
       "    </tr>\n",
       "  </thead>\n",
       "  <tbody>\n",
       "    <tr>\n",
       "      <th>0</th>\n",
       "      <td>I don't know where to begin, so I'll begin wit...</td>\n",
       "      <td>train</td>\n",
       "      <td>Negative</td>\n",
       "      <td>tt0331834</td>\n",
       "      <td>4</td>\n",
       "      <td>http://www.imdb.com/title/tt0331834/</td>\n",
       "      <td>Alive</td>\n",
       "      <td>tt0331834</td>\n",
       "      <td>movie</td>\n",
       "      <td>Alive</td>\n",
       "      <td>Alive</td>\n",
       "      <td>0</td>\n",
       "      <td>2002</td>\n",
       "      <td>&lt;NA&gt;</td>\n",
       "      <td>119</td>\n",
       "      <td>Action,Drama,Horror</td>\n",
       "    </tr>\n",
       "    <tr>\n",
       "      <th>1</th>\n",
       "      <td>I'll keep this short, as I know I don't need t...</td>\n",
       "      <td>train</td>\n",
       "      <td>Negative</td>\n",
       "      <td>tt0331834</td>\n",
       "      <td>3</td>\n",
       "      <td>http://www.imdb.com/title/tt0331834/</td>\n",
       "      <td>Alive</td>\n",
       "      <td>tt0331834</td>\n",
       "      <td>movie</td>\n",
       "      <td>Alive</td>\n",
       "      <td>Alive</td>\n",
       "      <td>0</td>\n",
       "      <td>2002</td>\n",
       "      <td>&lt;NA&gt;</td>\n",
       "      <td>119</td>\n",
       "      <td>Action,Drama,Horror</td>\n",
       "    </tr>\n",
       "    <tr>\n",
       "      <th>2</th>\n",
       "      <td>Having seen Versus previously I had high hopes...</td>\n",
       "      <td>train</td>\n",
       "      <td>Negative</td>\n",
       "      <td>tt0331834</td>\n",
       "      <td>2</td>\n",
       "      <td>http://www.imdb.com/title/tt0331834/</td>\n",
       "      <td>Alive</td>\n",
       "      <td>tt0331834</td>\n",
       "      <td>movie</td>\n",
       "      <td>Alive</td>\n",
       "      <td>Alive</td>\n",
       "      <td>0</td>\n",
       "      <td>2002</td>\n",
       "      <td>&lt;NA&gt;</td>\n",
       "      <td>119</td>\n",
       "      <td>Action,Drama,Horror</td>\n",
       "    </tr>\n",
       "    <tr>\n",
       "      <th>3</th>\n",
       "      <td>I really tried to like this movie but in the e...</td>\n",
       "      <td>train</td>\n",
       "      <td>Negative</td>\n",
       "      <td>tt0331834</td>\n",
       "      <td>4</td>\n",
       "      <td>http://www.imdb.com/title/tt0331834/</td>\n",
       "      <td>Alive</td>\n",
       "      <td>tt0331834</td>\n",
       "      <td>movie</td>\n",
       "      <td>Alive</td>\n",
       "      <td>Alive</td>\n",
       "      <td>0</td>\n",
       "      <td>2002</td>\n",
       "      <td>&lt;NA&gt;</td>\n",
       "      <td>119</td>\n",
       "      <td>Action,Drama,Horror</td>\n",
       "    </tr>\n",
       "    <tr>\n",
       "      <th>4</th>\n",
       "      <td>I've seen most of Ryuhei Kitamura's work and I...</td>\n",
       "      <td>train</td>\n",
       "      <td>Negative</td>\n",
       "      <td>tt0331834</td>\n",
       "      <td>4</td>\n",
       "      <td>http://www.imdb.com/title/tt0331834/</td>\n",
       "      <td>Alive</td>\n",
       "      <td>tt0331834</td>\n",
       "      <td>movie</td>\n",
       "      <td>Alive</td>\n",
       "      <td>Alive</td>\n",
       "      <td>0</td>\n",
       "      <td>2002</td>\n",
       "      <td>&lt;NA&gt;</td>\n",
       "      <td>119</td>\n",
       "      <td>Action,Drama,Horror</td>\n",
       "    </tr>\n",
       "  </tbody>\n",
       "</table>\n",
       "</div>"
      ],
      "text/plain": [
       "                                              review  split     label  \\\n",
       "0  I don't know where to begin, so I'll begin wit...  train  Negative   \n",
       "1  I'll keep this short, as I know I don't need t...  train  Negative   \n",
       "2  Having seen Versus previously I had high hopes...  train  Negative   \n",
       "3  I really tried to like this movie but in the e...  train  Negative   \n",
       "4  I've seen most of Ryuhei Kitamura's work and I...  train  Negative   \n",
       "\n",
       "    movie_id  reviewer_rating                             movie_url  title  \\\n",
       "0  tt0331834                4  http://www.imdb.com/title/tt0331834/  Alive   \n",
       "1  tt0331834                3  http://www.imdb.com/title/tt0331834/  Alive   \n",
       "2  tt0331834                2  http://www.imdb.com/title/tt0331834/  Alive   \n",
       "3  tt0331834                4  http://www.imdb.com/title/tt0331834/  Alive   \n",
       "4  tt0331834                4  http://www.imdb.com/title/tt0331834/  Alive   \n",
       "\n",
       "      tconst title_type primary_title original_title  is_adult  start_year  \\\n",
       "0  tt0331834      movie         Alive          Alive         0        2002   \n",
       "1  tt0331834      movie         Alive          Alive         0        2002   \n",
       "2  tt0331834      movie         Alive          Alive         0        2002   \n",
       "3  tt0331834      movie         Alive          Alive         0        2002   \n",
       "4  tt0331834      movie         Alive          Alive         0        2002   \n",
       "\n",
       "   end_year  runtime_minutes               genres  \n",
       "0      <NA>              119  Action,Drama,Horror  \n",
       "1      <NA>              119  Action,Drama,Horror  \n",
       "2      <NA>              119  Action,Drama,Horror  \n",
       "3      <NA>              119  Action,Drama,Horror  \n",
       "4      <NA>              119  Action,Drama,Horror  "
      ]
     },
     "execution_count": 6,
     "metadata": {},
     "output_type": "execute_result"
    }
   ],
   "source": [
    "#Columnas a eliminar: tconst, movie_url, title_type, end_year\n",
    "df_movies.head()"
   ]
  },
  {
   "cell_type": "code",
   "execution_count": 7,
   "metadata": {},
   "outputs": [
    {
     "data": {
      "text/html": [
       "<div>\n",
       "<style scoped>\n",
       "    .dataframe tbody tr th:only-of-type {\n",
       "        vertical-align: middle;\n",
       "    }\n",
       "\n",
       "    .dataframe tbody tr th {\n",
       "        vertical-align: top;\n",
       "    }\n",
       "\n",
       "    .dataframe thead th {\n",
       "        text-align: right;\n",
       "    }\n",
       "</style>\n",
       "<table border=\"1\" class=\"dataframe\">\n",
       "  <thead>\n",
       "    <tr style=\"text-align: right;\">\n",
       "      <th></th>\n",
       "      <th>review</th>\n",
       "      <th>split</th>\n",
       "      <th>label</th>\n",
       "      <th>movie_id</th>\n",
       "      <th>reviewer_rating</th>\n",
       "      <th>primary_title</th>\n",
       "      <th>is_adult</th>\n",
       "      <th>start_year</th>\n",
       "      <th>runtime_minutes</th>\n",
       "      <th>genres</th>\n",
       "    </tr>\n",
       "  </thead>\n",
       "  <tbody>\n",
       "    <tr>\n",
       "      <th>0</th>\n",
       "      <td>I don't know where to begin, so I'll begin wit...</td>\n",
       "      <td>train</td>\n",
       "      <td>Negative</td>\n",
       "      <td>tt0331834</td>\n",
       "      <td>4</td>\n",
       "      <td>Alive</td>\n",
       "      <td>0</td>\n",
       "      <td>2002</td>\n",
       "      <td>119</td>\n",
       "      <td>Action,Drama,Horror</td>\n",
       "    </tr>\n",
       "    <tr>\n",
       "      <th>1</th>\n",
       "      <td>I'll keep this short, as I know I don't need t...</td>\n",
       "      <td>train</td>\n",
       "      <td>Negative</td>\n",
       "      <td>tt0331834</td>\n",
       "      <td>3</td>\n",
       "      <td>Alive</td>\n",
       "      <td>0</td>\n",
       "      <td>2002</td>\n",
       "      <td>119</td>\n",
       "      <td>Action,Drama,Horror</td>\n",
       "    </tr>\n",
       "    <tr>\n",
       "      <th>2</th>\n",
       "      <td>Having seen Versus previously I had high hopes...</td>\n",
       "      <td>train</td>\n",
       "      <td>Negative</td>\n",
       "      <td>tt0331834</td>\n",
       "      <td>2</td>\n",
       "      <td>Alive</td>\n",
       "      <td>0</td>\n",
       "      <td>2002</td>\n",
       "      <td>119</td>\n",
       "      <td>Action,Drama,Horror</td>\n",
       "    </tr>\n",
       "    <tr>\n",
       "      <th>3</th>\n",
       "      <td>I really tried to like this movie but in the e...</td>\n",
       "      <td>train</td>\n",
       "      <td>Negative</td>\n",
       "      <td>tt0331834</td>\n",
       "      <td>4</td>\n",
       "      <td>Alive</td>\n",
       "      <td>0</td>\n",
       "      <td>2002</td>\n",
       "      <td>119</td>\n",
       "      <td>Action,Drama,Horror</td>\n",
       "    </tr>\n",
       "    <tr>\n",
       "      <th>4</th>\n",
       "      <td>I've seen most of Ryuhei Kitamura's work and I...</td>\n",
       "      <td>train</td>\n",
       "      <td>Negative</td>\n",
       "      <td>tt0331834</td>\n",
       "      <td>4</td>\n",
       "      <td>Alive</td>\n",
       "      <td>0</td>\n",
       "      <td>2002</td>\n",
       "      <td>119</td>\n",
       "      <td>Action,Drama,Horror</td>\n",
       "    </tr>\n",
       "  </tbody>\n",
       "</table>\n",
       "</div>"
      ],
      "text/plain": [
       "                                              review  split     label  \\\n",
       "0  I don't know where to begin, so I'll begin wit...  train  Negative   \n",
       "1  I'll keep this short, as I know I don't need t...  train  Negative   \n",
       "2  Having seen Versus previously I had high hopes...  train  Negative   \n",
       "3  I really tried to like this movie but in the e...  train  Negative   \n",
       "4  I've seen most of Ryuhei Kitamura's work and I...  train  Negative   \n",
       "\n",
       "    movie_id  reviewer_rating primary_title  is_adult  start_year  \\\n",
       "0  tt0331834                4         Alive         0        2002   \n",
       "1  tt0331834                3         Alive         0        2002   \n",
       "2  tt0331834                2         Alive         0        2002   \n",
       "3  tt0331834                4         Alive         0        2002   \n",
       "4  tt0331834                4         Alive         0        2002   \n",
       "\n",
       "   runtime_minutes               genres  \n",
       "0              119  Action,Drama,Horror  \n",
       "1              119  Action,Drama,Horror  \n",
       "2              119  Action,Drama,Horror  \n",
       "3              119  Action,Drama,Horror  \n",
       "4              119  Action,Drama,Horror  "
      ]
     },
     "execution_count": 7,
     "metadata": {},
     "output_type": "execute_result"
    }
   ],
   "source": [
    "df_movies.drop(['tconst', 'movie_url', 'title_type', 'end_year', 'title', 'original_title'], axis=1, inplace=True)\n",
    "df_movies.head()"
   ]
  },
  {
   "cell_type": "code",
   "execution_count": 9,
   "metadata": {},
   "outputs": [
    {
     "data": {
      "text/plain": [
       "Unsupervised    37883\n",
       "Positive        18710\n",
       "Negative        18161\n",
       "Name: label, dtype: int64"
      ]
     },
     "execution_count": 9,
     "metadata": {},
     "output_type": "execute_result"
    }
   ],
   "source": [
    "df_movies['label'].value_counts()\n",
    "    "
   ]
  },
  {
   "cell_type": "code",
   "execution_count": 32,
   "metadata": {},
   "outputs": [
    {
     "data": {
      "text/plain": [
       "train    56666\n",
       "test     18088\n",
       "Name: split, dtype: int64"
      ]
     },
     "execution_count": 32,
     "metadata": {},
     "output_type": "execute_result"
    }
   ],
   "source": [
    "df_movies['split'].value_counts()"
   ]
  },
  {
   "cell_type": "markdown",
   "metadata": {},
   "source": [
    "# Machine Learning model"
   ]
  },
  {
   "cell_type": "code",
   "execution_count": 1,
   "metadata": {},
   "outputs": [],
   "source": [
    "import pandas as pd\n",
    "df_movies = pd.read_csv('clean_imdb.csv')"
   ]
  },
  {
   "cell_type": "code",
   "execution_count": 2,
   "metadata": {},
   "outputs": [],
   "source": [
    "data_model = df_movies[['review','label','split']]"
   ]
  },
  {
   "cell_type": "code",
   "execution_count": 13,
   "metadata": {},
   "outputs": [
    {
     "data": {
      "text/html": [
       "<div>\n",
       "<style scoped>\n",
       "    .dataframe tbody tr th:only-of-type {\n",
       "        vertical-align: middle;\n",
       "    }\n",
       "\n",
       "    .dataframe tbody tr th {\n",
       "        vertical-align: top;\n",
       "    }\n",
       "\n",
       "    .dataframe thead th {\n",
       "        text-align: right;\n",
       "    }\n",
       "</style>\n",
       "<table border=\"1\" class=\"dataframe\">\n",
       "  <thead>\n",
       "    <tr style=\"text-align: right;\">\n",
       "      <th></th>\n",
       "      <th>review</th>\n",
       "      <th>label</th>\n",
       "      <th>split</th>\n",
       "    </tr>\n",
       "  </thead>\n",
       "  <tbody>\n",
       "    <tr>\n",
       "      <th>0</th>\n",
       "      <td>I don't know where to begin, so I'll begin wit...</td>\n",
       "      <td>Negative</td>\n",
       "      <td>train</td>\n",
       "    </tr>\n",
       "    <tr>\n",
       "      <th>1</th>\n",
       "      <td>I'll keep this short, as I know I don't need t...</td>\n",
       "      <td>Negative</td>\n",
       "      <td>train</td>\n",
       "    </tr>\n",
       "    <tr>\n",
       "      <th>2</th>\n",
       "      <td>Having seen Versus previously I had high hopes...</td>\n",
       "      <td>Negative</td>\n",
       "      <td>train</td>\n",
       "    </tr>\n",
       "    <tr>\n",
       "      <th>3</th>\n",
       "      <td>I really tried to like this movie but in the e...</td>\n",
       "      <td>Negative</td>\n",
       "      <td>train</td>\n",
       "    </tr>\n",
       "    <tr>\n",
       "      <th>4</th>\n",
       "      <td>I've seen most of Ryuhei Kitamura's work and I...</td>\n",
       "      <td>Negative</td>\n",
       "      <td>train</td>\n",
       "    </tr>\n",
       "  </tbody>\n",
       "</table>\n",
       "</div>"
      ],
      "text/plain": [
       "                                              review     label  split\n",
       "0  I don't know where to begin, so I'll begin wit...  Negative  train\n",
       "1  I'll keep this short, as I know I don't need t...  Negative  train\n",
       "2  Having seen Versus previously I had high hopes...  Negative  train\n",
       "3  I really tried to like this movie but in the e...  Negative  train\n",
       "4  I've seen most of Ryuhei Kitamura's work and I...  Negative  train"
      ]
     },
     "execution_count": 13,
     "metadata": {},
     "output_type": "execute_result"
    }
   ],
   "source": [
    "data_model.head()"
   ]
  },
  {
   "cell_type": "code",
   "execution_count": 15,
   "metadata": {},
   "outputs": [
    {
     "data": {
      "text/plain": [
       "Unsupervised    37883\n",
       "Positive        18710\n",
       "Negative        18161\n",
       "Name: label, dtype: int64"
      ]
     },
     "execution_count": 15,
     "metadata": {},
     "output_type": "execute_result"
    }
   ],
   "source": [
    "data_model['label'].value_counts()"
   ]
  },
  {
   "cell_type": "code",
   "execution_count": 3,
   "metadata": {},
   "outputs": [
    {
     "name": "stderr",
     "output_type": "stream",
     "text": [
      "[nltk_data] Downloading package stopwords to C:\\Users\\Pablo\n",
      "[nltk_data]     Tamayo\\AppData\\Roaming\\nltk_data...\n",
      "[nltk_data]   Package stopwords is already up-to-date!\n"
     ]
    }
   ],
   "source": [
    "from MLModelPreprocess import DataPreprocess"
   ]
  },
  {
   "cell_type": "code",
   "execution_count": 4,
   "metadata": {},
   "outputs": [],
   "source": [
    "preprocess = DataPreprocess(data_model)\n",
    "\n",
    "clean_text = preprocess.convert_data()"
   ]
  },
  {
   "cell_type": "code",
   "execution_count": 5,
   "metadata": {},
   "outputs": [
    {
     "data": {
      "text/plain": [
       "'keep this short know don need say much aliv strang littl film that obvious appeal some but found shock bland from almost the veri begin the film did veri littl make ani the charact likabl and the stori time becam convolut that complet lost interest said know other enjoy but found kitamura aliv anyth but lame extrem bore drama disguis thought provok action sci flick felt like was sucker into watch this film base it intrigu premis and uber excit cover art suggest pass for kitamura far more enjoy freshman effort versus his riot godzilla final war and don get wrong alway for good think man film but this certain wasn there was nari moment that actual care about singl event take place this over preachi dialogu heavi movi you wanna talk about someth talk about bore'"
      ]
     },
     "execution_count": 5,
     "metadata": {},
     "output_type": "execute_result"
    }
   ],
   "source": [
    "clean_text[1]"
   ]
  },
  {
   "cell_type": "code",
   "execution_count": 6,
   "metadata": {},
   "outputs": [],
   "source": [
    "vectorizer, text_features = preprocess.vectroize_data(clean_text)"
   ]
  },
  {
   "cell_type": "code",
   "execution_count": 10,
   "metadata": {},
   "outputs": [],
   "source": [
    "#division del dataset en entrenamiento y prueba: El dataset por defecto traia el mismo numero de train y test en la \n",
    "#columna split, por lo que ignoraremos esa notación y crearemos nuestro propio conjunto de entrenamiento y prueba\n",
    "from sklearn.model_selection import train_test_split\n",
    "from sklearn.naive_bayes import MultinomialNB\n",
    "from sklearn.metrics import classification_report, confusion_matrix, accuracy_score\n",
    "\n",
    "X_train, X_test, y_train, y_test = train_test_split(text_features, data_model['label'], test_size=0.2, random_state=0)"
   ]
  },
  {
   "cell_type": "code",
   "execution_count": 11,
   "metadata": {},
   "outputs": [
    {
     "data": {
      "text/html": [
       "<style>#sk-container-id-1 {color: black;background-color: white;}#sk-container-id-1 pre{padding: 0;}#sk-container-id-1 div.sk-toggleable {background-color: white;}#sk-container-id-1 label.sk-toggleable__label {cursor: pointer;display: block;width: 100%;margin-bottom: 0;padding: 0.3em;box-sizing: border-box;text-align: center;}#sk-container-id-1 label.sk-toggleable__label-arrow:before {content: \"▸\";float: left;margin-right: 0.25em;color: #696969;}#sk-container-id-1 label.sk-toggleable__label-arrow:hover:before {color: black;}#sk-container-id-1 div.sk-estimator:hover label.sk-toggleable__label-arrow:before {color: black;}#sk-container-id-1 div.sk-toggleable__content {max-height: 0;max-width: 0;overflow: hidden;text-align: left;background-color: #f0f8ff;}#sk-container-id-1 div.sk-toggleable__content pre {margin: 0.2em;color: black;border-radius: 0.25em;background-color: #f0f8ff;}#sk-container-id-1 input.sk-toggleable__control:checked~div.sk-toggleable__content {max-height: 200px;max-width: 100%;overflow: auto;}#sk-container-id-1 input.sk-toggleable__control:checked~label.sk-toggleable__label-arrow:before {content: \"▾\";}#sk-container-id-1 div.sk-estimator input.sk-toggleable__control:checked~label.sk-toggleable__label {background-color: #d4ebff;}#sk-container-id-1 div.sk-label input.sk-toggleable__control:checked~label.sk-toggleable__label {background-color: #d4ebff;}#sk-container-id-1 input.sk-hidden--visually {border: 0;clip: rect(1px 1px 1px 1px);clip: rect(1px, 1px, 1px, 1px);height: 1px;margin: -1px;overflow: hidden;padding: 0;position: absolute;width: 1px;}#sk-container-id-1 div.sk-estimator {font-family: monospace;background-color: #f0f8ff;border: 1px dotted black;border-radius: 0.25em;box-sizing: border-box;margin-bottom: 0.5em;}#sk-container-id-1 div.sk-estimator:hover {background-color: #d4ebff;}#sk-container-id-1 div.sk-parallel-item::after {content: \"\";width: 100%;border-bottom: 1px solid gray;flex-grow: 1;}#sk-container-id-1 div.sk-label:hover label.sk-toggleable__label {background-color: #d4ebff;}#sk-container-id-1 div.sk-serial::before {content: \"\";position: absolute;border-left: 1px solid gray;box-sizing: border-box;top: 0;bottom: 0;left: 50%;z-index: 0;}#sk-container-id-1 div.sk-serial {display: flex;flex-direction: column;align-items: center;background-color: white;padding-right: 0.2em;padding-left: 0.2em;position: relative;}#sk-container-id-1 div.sk-item {position: relative;z-index: 1;}#sk-container-id-1 div.sk-parallel {display: flex;align-items: stretch;justify-content: center;background-color: white;position: relative;}#sk-container-id-1 div.sk-item::before, #sk-container-id-1 div.sk-parallel-item::before {content: \"\";position: absolute;border-left: 1px solid gray;box-sizing: border-box;top: 0;bottom: 0;left: 50%;z-index: -1;}#sk-container-id-1 div.sk-parallel-item {display: flex;flex-direction: column;z-index: 1;position: relative;background-color: white;}#sk-container-id-1 div.sk-parallel-item:first-child::after {align-self: flex-end;width: 50%;}#sk-container-id-1 div.sk-parallel-item:last-child::after {align-self: flex-start;width: 50%;}#sk-container-id-1 div.sk-parallel-item:only-child::after {width: 0;}#sk-container-id-1 div.sk-dashed-wrapped {border: 1px dashed gray;margin: 0 0.4em 0.5em 0.4em;box-sizing: border-box;padding-bottom: 0.4em;background-color: white;}#sk-container-id-1 div.sk-label label {font-family: monospace;font-weight: bold;display: inline-block;line-height: 1.2em;}#sk-container-id-1 div.sk-label-container {text-align: center;}#sk-container-id-1 div.sk-container {/* jupyter's `normalize.less` sets `[hidden] { display: none; }` but bootstrap.min.css set `[hidden] { display: none !important; }` so we also need the `!important` here to be able to override the default hidden behavior on the sphinx rendered scikit-learn.org. See: https://github.com/scikit-learn/scikit-learn/issues/21755 */display: inline-block !important;position: relative;}#sk-container-id-1 div.sk-text-repr-fallback {display: none;}</style><div id=\"sk-container-id-1\" class=\"sk-top-container\"><div class=\"sk-text-repr-fallback\"><pre>MultinomialNB()</pre><b>In a Jupyter environment, please rerun this cell to show the HTML representation or trust the notebook. <br />On GitHub, the HTML representation is unable to render, please try loading this page with nbviewer.org.</b></div><div class=\"sk-container\" hidden><div class=\"sk-item\"><div class=\"sk-estimator sk-toggleable\"><input class=\"sk-toggleable__control sk-hidden--visually\" id=\"sk-estimator-id-1\" type=\"checkbox\" checked><label for=\"sk-estimator-id-1\" class=\"sk-toggleable__label sk-toggleable__label-arrow\">MultinomialNB</label><div class=\"sk-toggleable__content\"><pre>MultinomialNB()</pre></div></div></div></div></div>"
      ],
      "text/plain": [
       "MultinomialNB()"
      ]
     },
     "execution_count": 11,
     "metadata": {},
     "output_type": "execute_result"
    }
   ],
   "source": [
    "nb = MultinomialNB()\n",
    "nb.fit(X_train, y_train)"
   ]
  },
  {
   "cell_type": "code",
   "execution_count": 14,
   "metadata": {},
   "outputs": [
    {
     "name": "stdout",
     "output_type": "stream",
     "text": [
      "0.5048241727003662\n"
     ]
    }
   ],
   "source": [
    "predictions = nb.predict(X_train)\n",
    "\n",
    "# Ahora calculamos el score de accuracy enviando las predicciónes y los valores reales de polaridad.\n",
    "print(accuracy_score(y_train, predictions))\n"
   ]
  }
 ],
 "metadata": {
  "kernelspec": {
   "display_name": "Python 3.10.7 ('project-env': venv)",
   "language": "python",
   "name": "python3"
  },
  "language_info": {
   "codemirror_mode": {
    "name": "ipython",
    "version": 3
   },
   "file_extension": ".py",
   "mimetype": "text/x-python",
   "name": "python",
   "nbconvert_exporter": "python",
   "pygments_lexer": "ipython3",
   "version": "3.10.7"
  },
  "orig_nbformat": 4,
  "vscode": {
   "interpreter": {
    "hash": "5269ed5103d89e34524edfff97727670810407cc0729f730c1eecabbff2a5a58"
   }
  }
 },
 "nbformat": 4,
 "nbformat_minor": 2
}
