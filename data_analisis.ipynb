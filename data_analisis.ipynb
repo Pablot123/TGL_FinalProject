{
 "cells": [
  {
   "cell_type": "code",
   "execution_count": null,
   "metadata": {},
   "outputs": [],
   "source": [
    "import os\n",
    "from google.cloud import bigquery\n",
    "import matplotlib.pyplot as plt"
   ]
  },
  {
   "cell_type": "markdown",
   "metadata": {},
   "source": [
    "# Conexión con BigQuery"
   ]
  },
  {
   "cell_type": "code",
   "execution_count": null,
   "metadata": {},
   "outputs": [],
   "source": [
    "os.environ[\"GOOGLE_APPLICATION_CREDENTIALS\"]=\"E:/Desktop/Python Top Gun Lab/final_project/centering-valve-358203-eb0bab19cd78.json\"\n"
   ]
  },
  {
   "cell_type": "code",
   "execution_count": null,
   "metadata": {},
   "outputs": [],
   "source": [
    "# Construct a BigQuery client object.\n",
    "client = bigquery.Client()\n",
    "\n",
    "query = \"\"\"\n",
    "    SELECT * \n",
    "    FROM `bigquery-public-data.imdb.reviews` as reviews\n",
    "    INNER JOIN `bigquery-public-data.imdb.title_basics` as titles\n",
    "    ON reviews.movie_id = titles.tconst\n",
    "\"\"\"\n",
    "df = client.query(query).to_dataframe()  # Make an API request.\n"
   ]
  },
  {
   "cell_type": "markdown",
   "metadata": {},
   "source": [
    "# Análisis de datos\n",
    "El dataset que se esocogio fue el de IMDB, del cual seleccionamos dos tablas: reviews y title_basics las cuales se relacionan por medio de la columna movie_id y tconst.\n",
    "Como resultado tenemos un dataset de 94674 filas y 16 columnas previo a su limpieza.\n",
    "Respecto a cada columna tenemos:\n",
    "1. Reviews: hace referencia a la review de cierta pelicula/Serie/show/etc realizada por un usuario\n",
    "2. split: etiquta la fila para pertenecer a un subconjuto de datos: train y test, para posteriormente ser entrenada en un modelo de machine learning\n",
    "3. label: Etiqueta que le asigna la polaridad de la review realizada(Positiva o negativa)\n",
    "4. movie_id: caracter alfanumerico que identifica el producto audiovisual\n",
    "5. reviewer_rating: El rating que le dio la persona que realizó la review \n",
    "6. movie_url: url para ver la información de la película en imdb \n",
    "7. title: titulo de la pelicula \n",
    "8. tconst: caracter alfanumerico que identifica el producto audiovisual\n",
    "9. title_type: tipo de producto audiovisual: serie, pelicula, short, tvshow, etc\n",
    "10. primary_title: El titulo mas popular.\n",
    "11. original_title: El titulo original en el idioma original\n",
    "12. is_adult: Si la pellicula es para adultos o no\n",
    "13. start_year: Año de lanzamiento\n",
    "14. end_year: año en que termino en caso de ser una serie o show\n",
    "15. runtime_minutes: tiempo de duración\n",
    "16. genres: Generos a losque pertenece la pelicula \n",
    " "
   ]
  },
  {
   "cell_type": "code",
   "execution_count": null,
   "metadata": {},
   "outputs": [],
   "source": [
    "#Los tipos de datos se encuentran a continuacion donde object hace referencia a string, int a entero\n",
    "df.info()"
   ]
  },
  {
   "cell_type": "code",
   "execution_count": null,
   "metadata": {},
   "outputs": [],
   "source": [
    "#diferentes tipos de formatos audiovisuales, solo nos interesan las peliculas\n",
    "df['title_type'].value_counts()"
   ]
  },
  {
   "cell_type": "code",
   "execution_count": null,
   "metadata": {},
   "outputs": [],
   "source": [
    "#Dimensión del dataset luego de solo elegir las peliculas\n",
    "df_movies = df.loc[df['title_type'] == 'movie'].reset_index(drop=True)\n",
    "df_movies.shape"
   ]
  },
  {
   "cell_type": "code",
   "execution_count": null,
   "metadata": {},
   "outputs": [],
   "source": [
    "#Columnas a eliminar: tconst, movie_url, title_type, end_year\n",
    "df_movies.head()"
   ]
  },
  {
   "cell_type": "code",
   "execution_count": null,
   "metadata": {},
   "outputs": [],
   "source": [
    "df_movies.drop(['tconst', 'movie_url', 'title_type', 'end_year', 'title', 'original_title'], axis=1, inplace=True)\n",
    "df_movies.head()\n",
    "\n",
    "#de aqui sale el csv limpio!"
   ]
  },
  {
   "cell_type": "markdown",
   "metadata": {},
   "source": [
    "# Visualizations"
   ]
  },
  {
   "cell_type": "markdown",
   "metadata": {},
   "source": [
    "### ¿Influye la duración de las películas en la opinión que tienen las personas?"
   ]
  },
  {
   "cell_type": "code",
   "execution_count": null,
   "metadata": {},
   "outputs": [],
   "source": [
    "# Eliminar filas en las que la columna 'review_rating es nula'\n",
    "df_not_null_rating = df_movies.dropna(axis=0, subset=['reviewer_rating'])\n",
    "# Agrupar por duración y promediar la calificación\n",
    "df_unique_duration = df_not_null_rating.groupby(['runtime_minutes']).mean().round()\n",
    "df_unique_duration.reset_index(inplace=True)\n",
    "df_unique_duration"
   ]
  },
  {
   "cell_type": "code",
   "execution_count": null,
   "metadata": {},
   "outputs": [
    {
     "data": {
      "text/plain": [
       "<AxesSubplot: title={'center': 'runtime_minutes'}, xlabel='reviewer_rating'>"
      ]
     },
     "metadata": {},
     "output_type": "display_data"
    },
    {
     "data": {
      "image/png": "[encoded data removed]",
      "text/plain": [
       "<Figure size 864x576 with 1 Axes>"
      ]
     },
     "metadata": {},
     "output_type": "display_data"
    }
   ],
   "source": [
    "# Visualizar la relación entre el rating y el tiempo de duración\n",
    "df_unique_duration.boxplot(column='runtime_minutes', by='reviewer_rating',figsize=(12,8))"
   ]
  },
  {
   "cell_type": "markdown",
   "metadata": {},
   "source": [
    "### ¿Qué géneros tienen mejores ratings?"
   ]
  },
  {
   "cell_type": "code",
   "execution_count": null,
   "metadata": {},
   "outputs": [
    {
     "data": {
      "text/html": [
       "<div>\n",
       "<style scoped>\n",
       "    .dataframe tbody tr th:only-of-type {\n",
       "        vertical-align: middle;\n",
       "    }\n",
       "\n",
       "    .dataframe tbody tr th {\n",
       "        vertical-align: top;\n",
       "    }\n",
       "\n",
       "    .dataframe thead th {\n",
       "        text-align: right;\n",
       "    }\n",
       "</style>\n",
       "<table border=\"1\" class=\"dataframe\">\n",
       "  <thead>\n",
       "    <tr style=\"text-align: right;\">\n",
       "      <th></th>\n",
       "      <th>genres</th>\n",
       "      <th>reviewer_rating</th>\n",
       "      <th>is_adult</th>\n",
       "      <th>start_year</th>\n",
       "      <th>runtime_minutes</th>\n",
       "    </tr>\n",
       "  </thead>\n",
       "  <tbody>\n",
       "    <tr>\n",
       "      <th>0</th>\n",
       "      <td>Action</td>\n",
       "      <td>4.0</td>\n",
       "      <td>0.0</td>\n",
       "      <td>1995.0</td>\n",
       "      <td>92.0</td>\n",
       "    </tr>\n",
       "    <tr>\n",
       "      <th>1</th>\n",
       "      <td>Action,Adventure</td>\n",
       "      <td>4.0</td>\n",
       "      <td>0.0</td>\n",
       "      <td>1979.0</td>\n",
       "      <td>96.0</td>\n",
       "    </tr>\n",
       "    <tr>\n",
       "      <th>2</th>\n",
       "      <td>Action,Adventure,Animation</td>\n",
       "      <td>6.0</td>\n",
       "      <td>0.0</td>\n",
       "      <td>1999.0</td>\n",
       "      <td>97.0</td>\n",
       "    </tr>\n",
       "    <tr>\n",
       "      <th>3</th>\n",
       "      <td>Action,Adventure,Biography</td>\n",
       "      <td>6.0</td>\n",
       "      <td>0.0</td>\n",
       "      <td>2003.0</td>\n",
       "      <td>110.0</td>\n",
       "    </tr>\n",
       "    <tr>\n",
       "      <th>4</th>\n",
       "      <td>Action,Adventure,Comedy</td>\n",
       "      <td>4.0</td>\n",
       "      <td>0.0</td>\n",
       "      <td>1997.0</td>\n",
       "      <td>102.0</td>\n",
       "    </tr>\n",
       "    <tr>\n",
       "      <th>...</th>\n",
       "      <td>...</td>\n",
       "      <td>...</td>\n",
       "      <td>...</td>\n",
       "      <td>...</td>\n",
       "      <td>...</td>\n",
       "    </tr>\n",
       "    <tr>\n",
       "      <th>450</th>\n",
       "      <td>Thriller,War</td>\n",
       "      <td>6.0</td>\n",
       "      <td>0.0</td>\n",
       "      <td>1942.0</td>\n",
       "      <td>99.0</td>\n",
       "    </tr>\n",
       "    <tr>\n",
       "      <th>451</th>\n",
       "      <td>Thriller,Western</td>\n",
       "      <td>1.0</td>\n",
       "      <td>0.0</td>\n",
       "      <td>2007.0</td>\n",
       "      <td>90.0</td>\n",
       "    </tr>\n",
       "    <tr>\n",
       "      <th>452</th>\n",
       "      <td>War</td>\n",
       "      <td>5.0</td>\n",
       "      <td>0.0</td>\n",
       "      <td>1985.0</td>\n",
       "      <td>112.0</td>\n",
       "    </tr>\n",
       "    <tr>\n",
       "      <th>453</th>\n",
       "      <td>War,Western</td>\n",
       "      <td>3.0</td>\n",
       "      <td>0.0</td>\n",
       "      <td>1968.0</td>\n",
       "      <td>125.0</td>\n",
       "    </tr>\n",
       "    <tr>\n",
       "      <th>454</th>\n",
       "      <td>Western</td>\n",
       "      <td>5.0</td>\n",
       "      <td>0.0</td>\n",
       "      <td>1966.0</td>\n",
       "      <td>92.0</td>\n",
       "    </tr>\n",
       "  </tbody>\n",
       "</table>\n",
       "<p>455 rows × 5 columns</p>\n",
       "</div>"
      ],
      "text/plain": [
       "                         genres  reviewer_rating  is_adult  start_year  \\\n",
       "0                        Action              4.0       0.0      1995.0   \n",
       "1              Action,Adventure              4.0       0.0      1979.0   \n",
       "2    Action,Adventure,Animation              6.0       0.0      1999.0   \n",
       "3    Action,Adventure,Biography              6.0       0.0      2003.0   \n",
       "4       Action,Adventure,Comedy              4.0       0.0      1997.0   \n",
       "..                          ...              ...       ...         ...   \n",
       "450                Thriller,War              6.0       0.0      1942.0   \n",
       "451            Thriller,Western              1.0       0.0      2007.0   \n",
       "452                         War              5.0       0.0      1985.0   \n",
       "453                 War,Western              3.0       0.0      1968.0   \n",
       "454                     Western              5.0       0.0      1966.0   \n",
       "\n",
       "     runtime_minutes  \n",
       "0               92.0  \n",
       "1               96.0  \n",
       "2               97.0  \n",
       "3              110.0  \n",
       "4              102.0  \n",
       "..               ...  \n",
       "450             99.0  \n",
       "451             90.0  \n",
       "452            112.0  \n",
       "453            125.0  \n",
       "454             92.0  \n",
       "\n",
       "[455 rows x 5 columns]"
      ]
     },
     "metadata": {},
     "output_type": "display_data"
    }
   ],
   "source": [
    "# Agrupar por géneros y promediar la calificación\n",
    "df_unique_genre = df_not_null_rating.groupby(['genres']).mean().round()\n",
    "df_unique_genre.reset_index(inplace=True)\n",
    "df_unique_genre"
   ]
  },
  {
   "cell_type": "code",
   "execution_count": null,
   "metadata": {},
   "outputs": [
    {
     "data": {
      "text/plain": [
       "{'Action': 4.72,\n",
       " 'Adult': 3.57,\n",
       " 'Adventure': 5.09,\n",
       " 'Animation': 5.43,\n",
       " 'Biography': 5.42,\n",
       " 'Comedy': 5.1,\n",
       " 'Crime': 5.15,\n",
       " 'Documentary': 5.81,\n",
       " 'Drama': 5.38,\n",
       " 'Family': 5.35,\n",
       " 'Fantasy': 4.98,\n",
       " 'Film-Noir': 4.21,\n",
       " 'History': 5.73,\n",
       " 'Horror': 3.97,\n",
       " 'Music': 5.59,\n",
       " 'Musical': 6.03,\n",
       " 'Mystery': 4.96,\n",
       " 'News': 2.0,\n",
       " 'Romance': 5.05,\n",
       " 'Sci-Fi': 4.6,\n",
       " 'Short': 8.0,\n",
       " 'Sport': 5.61,\n",
       " 'Thriller': 4.55,\n",
       " 'War': 5.66,\n",
       " 'Western': 4.59}"
      ]
     },
     "metadata": {},
     "output_type": "display_data"
    }
   ],
   "source": [
    "# Inicializar una lista para guardar los géneros\n",
    "simple_genres =[]\n",
    "# Recorrer los conjuntos de géneros de las películas\n",
    "for genre in df_unique_genre['genres']:\n",
    "    # Separar los géneros de cada película\n",
    "    for simple_genre in genre.split(','):\n",
    "        # Agregar el género a la lista\n",
    "        if simple_genre not in simple_genres:\n",
    "            simple_genres.append(simple_genre)\n",
    "# Organizar la lista de géneros\n",
    "simple_genres.sort()\n",
    "\n",
    "# Inicializar un diccionario para guardar los promedios de calificación por género\n",
    "genres_rating = {}\n",
    "# Recorrer la lista de géneros individuales\n",
    "for genre in simple_genres:\n",
    "    # Inicializar una lista para guardar las calificaciones de cada género\n",
    "    ratings = []\n",
    "    for i in range(len(df_unique_genre)):\n",
    "        # Si el género está en el conjunto de géneros de la película\n",
    "        if genre in df_unique_genre['genres'][i]:\n",
    "            # Agregar la calificación de la película a la lista\n",
    "            ratings.append(df_unique_genre['reviewer_rating'][i])\n",
    "    # Calcular el promedio de las calificaciones de cada género\n",
    "    genres_rating[genre] = (sum(ratings) / len(ratings)).round(2)\n",
    "\n",
    "genres_rating\n"
   ]
  },
  {
   "cell_type": "code",
   "execution_count": null,
   "metadata": {},
   "outputs": [
    {
     "data": {
      "image/png": "[encoded data removed]",
      "text/plain": [
       "<Figure size 720x360 with 1 Axes>"
      ]
     },
     "metadata": {},
     "output_type": "display_data"
    }
   ],
   "source": [
    "# Visualizar la relación entre el rating y el género\n",
    "\n",
    "genres = list(genres_rating.keys())\n",
    "rating = list(genres_rating.values())\n",
    "\n",
    "fig = plt.figure(figsize = (10, 5))\n",
    "\n",
    "plt.bar(genres, rating, color ='maroon',\n",
    "        width = 0.4)\n",
    "\n",
    "plt.xlabel(\"Genres\")\n",
    "plt.xticks(rotation=90)\n",
    "plt.ylabel(\"Rating\")\n",
    "plt.show()"
   ]
  },
  {
   "cell_type": "markdown",
   "metadata": {},
   "source": [
    "Se puede observar que el género de \"Cortos\" es el que tiene una mayor puntuación, mientras que el género de \"Noticias\" tiene una puntuación muy baja."
   ]
  },
  {
   "cell_type": "code",
   "execution_count": null,
   "metadata": {},
   "outputs": [],
   "source": [
    "df_movies['label'].value_counts()\n",
    "    "
   ]
  },
  {
   "cell_type": "code",
   "execution_count": null,
   "metadata": {},
   "outputs": [],
   "source": [
    "df_movies['split'].value_counts()"
   ]
  },
  {
   "cell_type": "markdown",
   "metadata": {},
   "source": [
    "# Machine Learning model"
   ]
  },
  {
   "cell_type": "code",
   "execution_count": null,
   "metadata": {},
   "outputs": [],
   "source": [
    "import pandas as pd\n",
    "df_movies = pd.read_csv('clean_imdb.csv')"
   ]
  },
  {
   "cell_type": "code",
   "execution_count": null,
   "metadata": {},
   "outputs": [],
   "source": [
    "#Para entrenar el modelo necesitamos unicamente las reviews con los datos etiquetados \n",
    "data_model = df_movies[['review','label']].loc[df_movies['label']!='Unsupervised']"
   ]
  },
  {
   "cell_type": "code",
   "execution_count": null,
   "metadata": {},
   "outputs": [],
   "source": [
    "data_model.head()"
   ]
  },
  {
   "cell_type": "code",
   "execution_count": null,
   "metadata": {},
   "outputs": [],
   "source": [
    "#observamos que el dataset se encuentra balanceado\n",
    "data_model['label'].value_counts()"
   ]
  },
  {
   "cell_type": "code",
   "execution_count": null,
   "metadata": {},
   "outputs": [],
   "source": [
    "from MLModelPreprocess import DataPreprocess"
   ]
  },
  {
   "cell_type": "code",
   "execution_count": null,
   "metadata": {},
   "outputs": [],
   "source": [
    "preprocess = DataPreprocess(data_model)\n",
    "\n",
    "clean_text = preprocess.convert_data()"
   ]
  },
  {
   "cell_type": "code",
   "execution_count": null,
   "metadata": {},
   "outputs": [],
   "source": [
    "clean_text[1]"
   ]
  },
  {
   "cell_type": "code",
   "execution_count": null,
   "metadata": {},
   "outputs": [],
   "source": [
    "vectorizer, text_features = preprocess.vectroize_data(clean_text)"
   ]
  },
  {
   "cell_type": "code",
   "execution_count": null,
   "metadata": {},
   "outputs": [],
   "source": [
    "#division del dataset en entrenamiento y prueba: El dataset por defecto traia el mismo numero de train y test en la \n",
    "#columna split, por lo que ignoraremos esa notación y crearemos nuestro propio conjunto de entrenamiento y prueba\n",
    "from sklearn.model_selection import train_test_split\n",
    "from sklearn.naive_bayes import MultinomialNB\n",
    "from sklearn.metrics import classification_report, confusion_matrix, accuracy_score\n",
    "\n",
    "X_train, X_test, y_train, y_test = train_test_split(text_features, data_model['label'], test_size=0.2, random_state=0)"
   ]
  },
  {
   "cell_type": "code",
   "execution_count": null,
   "metadata": {},
   "outputs": [],
   "source": [
    "nb = MultinomialNB()\n",
    "nb.fit(X_train, y_train)"
   ]
  },
  {
   "cell_type": "code",
   "execution_count": null,
   "metadata": {},
   "outputs": [],
   "source": [
    "predictions = nb.predict(X_train)\n",
    "\n",
    "# Ahora calculamos el score de accuracy enviando las predicciónes y los valores reales de polaridad.\n",
    "print(accuracy_score(y_train, predictions))\n"
   ]
  },
  {
   "cell_type": "code",
   "execution_count": null,
   "metadata": {},
   "outputs": [],
   "source": [
    "predictions = nb.predict(X_test)\n",
    "\n",
    "# Ahora calculamos el score de accuracy enviando las predicciónes y los valores reales de polaridad.\n",
    "print(accuracy_score(y_test, predictions))"
   ]
  }
 ],
 "metadata": {
  "kernelspec": {
   "display_name": "Python 3.9.13 64-bit",
   "language": "python",
   "name": "python3"
  },
  "language_info": {
   "codemirror_mode": {
    "name": "ipython",
    "version": 3
   },
   "file_extension": ".py",
   "mimetype": "text/x-python",
   "name": "python",
   "nbconvert_exporter": "python",
   "pygments_lexer": "ipython3",
   "version": "3.9.13"
  },
  "orig_nbformat": 4,
  "vscode": {
   "interpreter": {
    "hash": "c35574a98be30f8d7037e0725b50e433e0b66a30ead3ea7cacc50fbbd8d435ed"
   }
  }
 },
 "nbformat": 4,
 "nbformat_minor": 2
}
