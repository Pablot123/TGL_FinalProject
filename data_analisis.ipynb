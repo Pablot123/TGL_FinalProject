{
 "cells": [
  {
   "cell_type": "markdown",
   "metadata": {},
   "source": [
    "# Conexión con BigQuery"
   ]
  },
  {
   "cell_type": "code",
   "execution_count": 2,
   "metadata": {},
   "outputs": [],
   "source": [
    "import os\n",
    "os.environ[\"GOOGLE_APPLICATION_CREDENTIALS\"]=\"E:/Desktop/Python Top Gun Lab/final_project/centering-valve-358203-eb0bab19cd78.json\"\n"
   ]
  },
  {
   "cell_type": "code",
   "execution_count": 3,
   "metadata": {},
   "outputs": [],
   "source": [
    "from google.cloud import bigquery\n",
    "\n",
    "# Construct a BigQuery client object.\n",
    "client = bigquery.Client()\n",
    "\n",
    "query = \"\"\"\n",
    "    SELECT * \n",
    "    FROM `bigquery-public-data.imdb.reviews` as reviews\n",
    "    INNER JOIN `bigquery-public-data.imdb.title_basics` as titles\n",
    "    ON reviews.movie_id = titles.tconst\n",
    "\"\"\"\n",
    "df = client.query(query).to_dataframe()  # Make an API request.\n"
   ]
  },
  {
   "cell_type": "markdown",
   "metadata": {},
   "source": [
    "# Análisis de datos\n",
    "El dataset que se esocogio fue el de IMDB, del cual seleccionamos dos tablas: reviews y title_basics las cuales se relacionan por medio de la columna movie_id y tconst.\n",
    "Como resultado tenemos un dataset de 94674 filas y 16 columnas previo a su limpieza.\n",
    "Respecto a cada columna tenemos:\n",
    "1. Reviews: hace referencia a la review de cierta pelicula/Serie/show/etc realizada por un usuario\n",
    "2. split: etiquta la fila para pertenecer a un subconjuto de datos: train y test, para posteriormente ser entrenada en un modelo de machine learning\n",
    "3. label: Etiqueta que le asigna la polaridad de la review realizada(Positiva o negativa)\n",
    "4. movie_id: caracter alfanumerico que identifica el producto audiovisual\n",
    "5. reviewer_rating: El rating que le dio la persona que realizó la review \n",
    "6. movie_url: url para ver la información de la película en imdb \n",
    "7. title: titulo de la pelicula \n",
    "8. tconst: caracter alfanumerico que identifica el producto audiovisual\n",
    "9. title_type: tipo de producto audiovisual: serie, pelicula, short, tvshow, etc\n",
    "10. primary_title: El titulo mas popular.\n",
    "11. original_title: El titulo original en el idioma original\n",
    "12. is_adult: Si la pellicula es para adultos o no\n",
    "13. start_year: Año de lanzamiento\n",
    "14. end_year: año en que termino en caso de ser una serie o show\n",
    "15. runtime_minutes: tiempo de duración\n",
    "16. genres: Generos a losque pertenece la pelicula \n",
    " "
   ]
  },
  {
   "cell_type": "code",
   "execution_count": 4,
   "metadata": {},
   "outputs": [
    {
     "name": "stdout",
     "output_type": "stream",
     "text": [
      "<class 'pandas.core.frame.DataFrame'>\n",
      "RangeIndex: 94674 entries, 0 to 94673\n",
      "Data columns (total 16 columns):\n",
      " #   Column           Non-Null Count  Dtype \n",
      "---  ------           --------------  ----- \n",
      " 0   review           94674 non-null  object\n",
      " 1   split            94674 non-null  object\n",
      " 2   label            94674 non-null  object\n",
      " 3   movie_id         94674 non-null  object\n",
      " 4   reviewer_rating  47285 non-null  Int64 \n",
      " 5   movie_url        94674 non-null  object\n",
      " 6   title            94673 non-null  object\n",
      " 7   tconst           94674 non-null  object\n",
      " 8   title_type       94674 non-null  object\n",
      " 9   primary_title    94674 non-null  object\n",
      " 10  original_title   94674 non-null  object\n",
      " 11  is_adult         94674 non-null  Int64 \n",
      " 12  start_year       94669 non-null  Int64 \n",
      " 13  end_year         4834 non-null   Int64 \n",
      " 14  runtime_minutes  93779 non-null  Int64 \n",
      " 15  genres           94628 non-null  object\n",
      "dtypes: Int64(5), object(11)\n",
      "memory usage: 12.0+ MB\n"
     ]
    }
   ],
   "source": [
    "#Los tipos de datos se encuentran a continuacion donde object hace referencia a string, int a entero\n",
    "df.info()"
   ]
  },
  {
   "cell_type": "code",
   "execution_count": 7,
   "metadata": {},
   "outputs": [
    {
     "data": {
      "text/plain": [
       "movie           74754\n",
       "tvMovie          5788\n",
       "video            4835\n",
       "tvSeries         4104\n",
       "short            1675\n",
       "tvMiniSeries     1502\n",
       "tvEpisode        1241\n",
       "videoGame         385\n",
       "tvSpecial         334\n",
       "tvShort            56\n",
       "Name: title_type, dtype: int64"
      ]
     },
     "execution_count": 7,
     "metadata": {},
     "output_type": "execute_result"
    }
   ],
   "source": [
    "#diferentes tipos de formatos audiovisuales, solo nos interesan las peliculas\n",
    "df['title_type'].value_counts()"
   ]
  },
  {
   "cell_type": "code",
   "execution_count": 5,
   "metadata": {},
   "outputs": [
    {
     "data": {
      "text/plain": [
       "(74754, 16)"
      ]
     },
     "execution_count": 5,
     "metadata": {},
     "output_type": "execute_result"
    }
   ],
   "source": [
    "#Dimensión del dataset luego de solo elegir las peliculas\n",
    "df_movies = df.loc[df['title_type'] == 'movie'].reset_index(drop=True)\n",
    "df_movies.shape"
   ]
  },
  {
   "cell_type": "code",
   "execution_count": 6,
   "metadata": {},
   "outputs": [
    {
     "data": {
      "text/html": [
       "<div>\n",
       "<style scoped>\n",
       "    .dataframe tbody tr th:only-of-type {\n",
       "        vertical-align: middle;\n",
       "    }\n",
       "\n",
       "    .dataframe tbody tr th {\n",
       "        vertical-align: top;\n",
       "    }\n",
       "\n",
       "    .dataframe thead th {\n",
       "        text-align: right;\n",
       "    }\n",
       "</style>\n",
       "<table border=\"1\" class=\"dataframe\">\n",
       "  <thead>\n",
       "    <tr style=\"text-align: right;\">\n",
       "      <th></th>\n",
       "      <th>review</th>\n",
       "      <th>split</th>\n",
       "      <th>label</th>\n",
       "      <th>movie_id</th>\n",
       "      <th>reviewer_rating</th>\n",
       "      <th>movie_url</th>\n",
       "      <th>title</th>\n",
       "      <th>tconst</th>\n",
       "      <th>title_type</th>\n",
       "      <th>primary_title</th>\n",
       "      <th>original_title</th>\n",
       "      <th>is_adult</th>\n",
       "      <th>start_year</th>\n",
       "      <th>end_year</th>\n",
       "      <th>runtime_minutes</th>\n",
       "      <th>genres</th>\n",
       "    </tr>\n",
       "  </thead>\n",
       "  <tbody>\n",
       "    <tr>\n",
       "      <th>0</th>\n",
       "      <td>I don't know where to begin, so I'll begin wit...</td>\n",
       "      <td>train</td>\n",
       "      <td>Negative</td>\n",
       "      <td>tt0331834</td>\n",
       "      <td>4</td>\n",
       "      <td>http://www.imdb.com/title/tt0331834/</td>\n",
       "      <td>Alive</td>\n",
       "      <td>tt0331834</td>\n",
       "      <td>movie</td>\n",
       "      <td>Alive</td>\n",
       "      <td>Alive</td>\n",
       "      <td>0</td>\n",
       "      <td>2002</td>\n",
       "      <td>&lt;NA&gt;</td>\n",
       "      <td>119</td>\n",
       "      <td>Action,Drama,Horror</td>\n",
       "    </tr>\n",
       "    <tr>\n",
       "      <th>1</th>\n",
       "      <td>I'll keep this short, as I know I don't need t...</td>\n",
       "      <td>train</td>\n",
       "      <td>Negative</td>\n",
       "      <td>tt0331834</td>\n",
       "      <td>3</td>\n",
       "      <td>http://www.imdb.com/title/tt0331834/</td>\n",
       "      <td>Alive</td>\n",
       "      <td>tt0331834</td>\n",
       "      <td>movie</td>\n",
       "      <td>Alive</td>\n",
       "      <td>Alive</td>\n",
       "      <td>0</td>\n",
       "      <td>2002</td>\n",
       "      <td>&lt;NA&gt;</td>\n",
       "      <td>119</td>\n",
       "      <td>Action,Drama,Horror</td>\n",
       "    </tr>\n",
       "    <tr>\n",
       "      <th>2</th>\n",
       "      <td>Having seen Versus previously I had high hopes...</td>\n",
       "      <td>train</td>\n",
       "      <td>Negative</td>\n",
       "      <td>tt0331834</td>\n",
       "      <td>2</td>\n",
       "      <td>http://www.imdb.com/title/tt0331834/</td>\n",
       "      <td>Alive</td>\n",
       "      <td>tt0331834</td>\n",
       "      <td>movie</td>\n",
       "      <td>Alive</td>\n",
       "      <td>Alive</td>\n",
       "      <td>0</td>\n",
       "      <td>2002</td>\n",
       "      <td>&lt;NA&gt;</td>\n",
       "      <td>119</td>\n",
       "      <td>Action,Drama,Horror</td>\n",
       "    </tr>\n",
       "    <tr>\n",
       "      <th>3</th>\n",
       "      <td>I really tried to like this movie but in the e...</td>\n",
       "      <td>train</td>\n",
       "      <td>Negative</td>\n",
       "      <td>tt0331834</td>\n",
       "      <td>4</td>\n",
       "      <td>http://www.imdb.com/title/tt0331834/</td>\n",
       "      <td>Alive</td>\n",
       "      <td>tt0331834</td>\n",
       "      <td>movie</td>\n",
       "      <td>Alive</td>\n",
       "      <td>Alive</td>\n",
       "      <td>0</td>\n",
       "      <td>2002</td>\n",
       "      <td>&lt;NA&gt;</td>\n",
       "      <td>119</td>\n",
       "      <td>Action,Drama,Horror</td>\n",
       "    </tr>\n",
       "    <tr>\n",
       "      <th>4</th>\n",
       "      <td>I've seen most of Ryuhei Kitamura's work and I...</td>\n",
       "      <td>train</td>\n",
       "      <td>Negative</td>\n",
       "      <td>tt0331834</td>\n",
       "      <td>4</td>\n",
       "      <td>http://www.imdb.com/title/tt0331834/</td>\n",
       "      <td>Alive</td>\n",
       "      <td>tt0331834</td>\n",
       "      <td>movie</td>\n",
       "      <td>Alive</td>\n",
       "      <td>Alive</td>\n",
       "      <td>0</td>\n",
       "      <td>2002</td>\n",
       "      <td>&lt;NA&gt;</td>\n",
       "      <td>119</td>\n",
       "      <td>Action,Drama,Horror</td>\n",
       "    </tr>\n",
       "  </tbody>\n",
       "</table>\n",
       "</div>"
      ],
      "text/plain": [
       "                                              review  split     label  \\\n",
       "0  I don't know where to begin, so I'll begin wit...  train  Negative   \n",
       "1  I'll keep this short, as I know I don't need t...  train  Negative   \n",
       "2  Having seen Versus previously I had high hopes...  train  Negative   \n",
       "3  I really tried to like this movie but in the e...  train  Negative   \n",
       "4  I've seen most of Ryuhei Kitamura's work and I...  train  Negative   \n",
       "\n",
       "    movie_id  reviewer_rating                             movie_url  title  \\\n",
       "0  tt0331834                4  http://www.imdb.com/title/tt0331834/  Alive   \n",
       "1  tt0331834                3  http://www.imdb.com/title/tt0331834/  Alive   \n",
       "2  tt0331834                2  http://www.imdb.com/title/tt0331834/  Alive   \n",
       "3  tt0331834                4  http://www.imdb.com/title/tt0331834/  Alive   \n",
       "4  tt0331834                4  http://www.imdb.com/title/tt0331834/  Alive   \n",
       "\n",
       "      tconst title_type primary_title original_title  is_adult  start_year  \\\n",
       "0  tt0331834      movie         Alive          Alive         0        2002   \n",
       "1  tt0331834      movie         Alive          Alive         0        2002   \n",
       "2  tt0331834      movie         Alive          Alive         0        2002   \n",
       "3  tt0331834      movie         Alive          Alive         0        2002   \n",
       "4  tt0331834      movie         Alive          Alive         0        2002   \n",
       "\n",
       "   end_year  runtime_minutes               genres  \n",
       "0      <NA>              119  Action,Drama,Horror  \n",
       "1      <NA>              119  Action,Drama,Horror  \n",
       "2      <NA>              119  Action,Drama,Horror  \n",
       "3      <NA>              119  Action,Drama,Horror  \n",
       "4      <NA>              119  Action,Drama,Horror  "
      ]
     },
     "execution_count": 6,
     "metadata": {},
     "output_type": "execute_result"
    }
   ],
   "source": [
    "#Columnas a eliminar: tconst, movie_url, title_type, end_year\n",
    "df_movies.head()"
   ]
  },
  {
   "cell_type": "code",
   "execution_count": 7,
   "metadata": {},
   "outputs": [
    {
     "data": {
      "text/html": [
       "<div>\n",
       "<style scoped>\n",
       "    .dataframe tbody tr th:only-of-type {\n",
       "        vertical-align: middle;\n",
       "    }\n",
       "\n",
       "    .dataframe tbody tr th {\n",
       "        vertical-align: top;\n",
       "    }\n",
       "\n",
       "    .dataframe thead th {\n",
       "        text-align: right;\n",
       "    }\n",
       "</style>\n",
       "<table border=\"1\" class=\"dataframe\">\n",
       "  <thead>\n",
       "    <tr style=\"text-align: right;\">\n",
       "      <th></th>\n",
       "      <th>review</th>\n",
       "      <th>split</th>\n",
       "      <th>label</th>\n",
       "      <th>movie_id</th>\n",
       "      <th>reviewer_rating</th>\n",
       "      <th>primary_title</th>\n",
       "      <th>is_adult</th>\n",
       "      <th>start_year</th>\n",
       "      <th>runtime_minutes</th>\n",
       "      <th>genres</th>\n",
       "    </tr>\n",
       "  </thead>\n",
       "  <tbody>\n",
       "    <tr>\n",
       "      <th>0</th>\n",
       "      <td>I don't know where to begin, so I'll begin wit...</td>\n",
       "      <td>train</td>\n",
       "      <td>Negative</td>\n",
       "      <td>tt0331834</td>\n",
       "      <td>4</td>\n",
       "      <td>Alive</td>\n",
       "      <td>0</td>\n",
       "      <td>2002</td>\n",
       "      <td>119</td>\n",
       "      <td>Action,Drama,Horror</td>\n",
       "    </tr>\n",
       "    <tr>\n",
       "      <th>1</th>\n",
       "      <td>I'll keep this short, as I know I don't need t...</td>\n",
       "      <td>train</td>\n",
       "      <td>Negative</td>\n",
       "      <td>tt0331834</td>\n",
       "      <td>3</td>\n",
       "      <td>Alive</td>\n",
       "      <td>0</td>\n",
       "      <td>2002</td>\n",
       "      <td>119</td>\n",
       "      <td>Action,Drama,Horror</td>\n",
       "    </tr>\n",
       "    <tr>\n",
       "      <th>2</th>\n",
       "      <td>Having seen Versus previously I had high hopes...</td>\n",
       "      <td>train</td>\n",
       "      <td>Negative</td>\n",
       "      <td>tt0331834</td>\n",
       "      <td>2</td>\n",
       "      <td>Alive</td>\n",
       "      <td>0</td>\n",
       "      <td>2002</td>\n",
       "      <td>119</td>\n",
       "      <td>Action,Drama,Horror</td>\n",
       "    </tr>\n",
       "    <tr>\n",
       "      <th>3</th>\n",
       "      <td>I really tried to like this movie but in the e...</td>\n",
       "      <td>train</td>\n",
       "      <td>Negative</td>\n",
       "      <td>tt0331834</td>\n",
       "      <td>4</td>\n",
       "      <td>Alive</td>\n",
       "      <td>0</td>\n",
       "      <td>2002</td>\n",
       "      <td>119</td>\n",
       "      <td>Action,Drama,Horror</td>\n",
       "    </tr>\n",
       "    <tr>\n",
       "      <th>4</th>\n",
       "      <td>I've seen most of Ryuhei Kitamura's work and I...</td>\n",
       "      <td>train</td>\n",
       "      <td>Negative</td>\n",
       "      <td>tt0331834</td>\n",
       "      <td>4</td>\n",
       "      <td>Alive</td>\n",
       "      <td>0</td>\n",
       "      <td>2002</td>\n",
       "      <td>119</td>\n",
       "      <td>Action,Drama,Horror</td>\n",
       "    </tr>\n",
       "  </tbody>\n",
       "</table>\n",
       "</div>"
      ],
      "text/plain": [
       "                                              review  split     label  \\\n",
       "0  I don't know where to begin, so I'll begin wit...  train  Negative   \n",
       "1  I'll keep this short, as I know I don't need t...  train  Negative   \n",
       "2  Having seen Versus previously I had high hopes...  train  Negative   \n",
       "3  I really tried to like this movie but in the e...  train  Negative   \n",
       "4  I've seen most of Ryuhei Kitamura's work and I...  train  Negative   \n",
       "\n",
       "    movie_id  reviewer_rating primary_title  is_adult  start_year  \\\n",
       "0  tt0331834                4         Alive         0        2002   \n",
       "1  tt0331834                3         Alive         0        2002   \n",
       "2  tt0331834                2         Alive         0        2002   \n",
       "3  tt0331834                4         Alive         0        2002   \n",
       "4  tt0331834                4         Alive         0        2002   \n",
       "\n",
       "   runtime_minutes               genres  \n",
       "0              119  Action,Drama,Horror  \n",
       "1              119  Action,Drama,Horror  \n",
       "2              119  Action,Drama,Horror  \n",
       "3              119  Action,Drama,Horror  \n",
       "4              119  Action,Drama,Horror  "
      ]
     },
     "execution_count": 7,
     "metadata": {},
     "output_type": "execute_result"
    }
   ],
   "source": [
    "df_movies.drop(['tconst', 'movie_url', 'title_type', 'end_year', 'title', 'original_title'], axis=1, inplace=True)\n",
    "df_movies.head()"
   ]
  },
  {
   "cell_type": "code",
   "execution_count": 9,
   "metadata": {},
   "outputs": [
    {
     "data": {
      "text/plain": [
       "Unsupervised    37883\n",
       "Positive        18710\n",
       "Negative        18161\n",
       "Name: label, dtype: int64"
      ]
     },
     "execution_count": 9,
     "metadata": {},
     "output_type": "execute_result"
    }
   ],
   "source": [
    "df_movies['label'].value_counts()\n",
    "    "
   ]
  },
  {
   "cell_type": "code",
   "execution_count": 32,
   "metadata": {},
   "outputs": [
    {
     "data": {
      "text/plain": [
       "train    56666\n",
       "test     18088\n",
       "Name: split, dtype: int64"
      ]
     },
     "execution_count": 32,
     "metadata": {},
     "output_type": "execute_result"
    }
   ],
   "source": [
    "df_movies['split'].value_counts()"
   ]
  },
  {
   "cell_type": "markdown",
   "metadata": {},
   "source": [
    "# Machine Learning model"
   ]
  },
  {
   "cell_type": "code",
   "execution_count": 1,
   "metadata": {},
   "outputs": [],
   "source": [
    "import pandas as pd\n",
    "df_movies = pd.read_csv('clean_imdb.csv')"
   ]
  },
  {
   "cell_type": "code",
   "execution_count": 2,
   "metadata": {},
   "outputs": [],
   "source": [
    "data_model = df_movies[['review','label','split']]"
   ]
  },
  {
   "cell_type": "code",
   "execution_count": 3,
   "metadata": {},
   "outputs": [
    {
     "name": "stderr",
     "output_type": "stream",
     "text": [
      "[nltk_data] Error loading stopwords: <urlopen error [Errno 11001]\n",
      "[nltk_data]     getaddrinfo failed>\n"
     ]
    }
   ],
   "source": [
    "from MLModelPreprocess import DataPreprocess"
   ]
  },
  {
   "cell_type": "code",
   "execution_count": 4,
   "metadata": {},
   "outputs": [],
   "source": [
    "preprocess = DataPreprocess(data_model)\n",
    "\n",
    "clean_text = preprocess.convert_data()"
   ]
  }
 ],
 "metadata": {
  "kernelspec": {
   "display_name": "Python 3.10.7 ('project-env': venv)",
   "language": "python",
   "name": "python3"
  },
  "language_info": {
   "codemirror_mode": {
    "name": "ipython",
    "version": 3
   },
   "file_extension": ".py",
   "mimetype": "text/x-python",
   "name": "python",
   "nbconvert_exporter": "python",
   "pygments_lexer": "ipython3",
   "version": "3.10.7"
  },
  "orig_nbformat": 4,
  "vscode": {
   "interpreter": {
    "hash": "85638d7c8b79d6357b17e8482bfd3f1ab7417dfd7c922b0e0ea95dc87a50d847"
   }
  }
 },
 "nbformat": 4,
 "nbformat_minor": 2
}
