{
 "cells": [
  {
   "cell_type": "code",
   "execution_count": 10,
   "metadata": {},
   "outputs": [],
   "source": [
    "import os\n",
    "os.environ[\"GOOGLE_APPLICATION_CREDENTIALS\"]=\"E:/Desktop/Python Top Gun Lab/final_project/centering-valve-358203-eb0bab19cd78.json\"\n"
   ]
  },
  {
   "cell_type": "code",
   "execution_count": 15,
   "metadata": {},
   "outputs": [
    {
     "name": "stdout",
     "output_type": "stream",
     "text": [
      "The query data:\n",
      "I had to see this on the British Airways plane. It was terribly bad acting and a dumb story. Not even a kid would enjoy this. Something to switch off if possible.\n",
      "This is a family movie that was broadcast on my local ITV station at 1.00 am a couple of nights ago . This might be a strange decision on the part of the schedulers but THE REAL HOWARD SPITZ is a rather strange film , strange in the way it doesn't want to upset its audience . Come on there's nothing kids like more than sadism and that's why Roald Dahl was such a popular author for children . It also explains why DOCTOR WHO was such a successful show across the world . In this screenplay you're just dying for pulp fiction author to do something nasty to the kids but this doesn't happen . I'm not advocating child abuse but to see Howard Spitz lose his rag at the little ones would have made the movie rather better . Can you imagine how much worse KINDERGARTEN COP would have been if the producers had gone all PC ? I mean if you're making a movie centered around a children's author who hates children shouldn't the story show and not tell ? Much of the problem lies with director Vadim Jean and you do get the feeling he doesn't know how to handle the material which is bad news for the movie . As someone previously noted the soundtrack is haphazard and Kelsey Grammar is very wooden . I guess he was trying to play it dead pan just like in that show he's famous for but it fails to work here and there's many scenes with quiet ridiculous camera angles which seem unintentional but which are very distracting . But at the end of the day the main problem remains that the potential is ruined because no one wanted to offend the audiences sensibilities\n"
     ]
    }
   ],
   "source": [
    "from google.cloud import bigquery\n",
    "\n",
    "# Construct a BigQuery client object.\n",
    "client = bigquery.Client()\n",
    "\n",
    "query = \"\"\"\n",
    "    SELECT * \n",
    "    FROM `bigquery-public-data.imdb.reviews` \n",
    "    LIMIT 2\n",
    "\"\"\"\n",
    "query_job = client.query(query)  # Make an API request.\n",
    "\n",
    "print(\"The query data:\")\n",
    "for row in query_job:\n",
    "    # Row values can be accessed by field name or index.\n",
    "    print(row['review'])"
   ]
  }
 ],
 "metadata": {
  "kernelspec": {
   "display_name": "Python 3.10.7 ('project-env': venv)",
   "language": "python",
   "name": "python3"
  },
  "language_info": {
   "codemirror_mode": {
    "name": "ipython",
    "version": 3
   },
   "file_extension": ".py",
   "mimetype": "text/x-python",
   "name": "python",
   "nbconvert_exporter": "python",
   "pygments_lexer": "ipython3",
   "version": "3.10.7"
  },
  "orig_nbformat": 4,
  "vscode": {
   "interpreter": {
    "hash": "85638d7c8b79d6357b17e8482bfd3f1ab7417dfd7c922b0e0ea95dc87a50d847"
   }
  }
 },
 "nbformat": 4,
 "nbformat_minor": 2
}
